{
 "cells": [
  {
   "cell_type": "code",
   "execution_count": 31,
   "metadata": {},
   "outputs": [],
   "source": [
    "import pandas as pd\n",
    "import numpy as np"
   ]
  },
  {
   "cell_type": "markdown",
   "metadata": {},
   "source": [
    "### Địa chỉ file gốc và file đích"
   ]
  },
  {
   "cell_type": "markdown",
   "metadata": {},
   "source": [
    "#### Dự án"
   ]
  },
  {
   "cell_type": "code",
   "execution_count": 32,
   "metadata": {},
   "outputs": [],
   "source": [
    "# path_data_original = '../Data/originalData/data_project_new.csv'\n",
    "# path_data_goal = '../Data/cleanedData/cleaned_data_project.csv'"
   ]
  },
  {
   "cell_type": "markdown",
   "metadata": {},
   "source": [
    "#### Toàn bộ"
   ]
  },
  {
   "cell_type": "code",
   "execution_count": 33,
   "metadata": {},
   "outputs": [],
   "source": [
    "\n",
    "path_data_original = '../Data/originalData/data_original_new.csv'\n",
    "path_data_goal = '../Data/cleanedData/cleaned_data_new.csv'"
   ]
  },
  {
   "cell_type": "code",
   "execution_count": 34,
   "metadata": {},
   "outputs": [],
   "source": [
    "data = pd.read_csv(path_data_original)"
   ]
  },
  {
   "cell_type": "markdown",
   "metadata": {},
   "source": [
    "### Drop những căn bị thiếu thông tin\n",
    "\n"
   ]
  },
  {
   "cell_type": "code",
   "execution_count": 35,
   "metadata": {},
   "outputs": [],
   "source": [
    "data = data.drop_duplicates()\n",
    "data = data[data['Tỉnh/Thành phố'].str.contains('Hà Nội', case=False, na=False)].reset_index(drop=True)\n",
    "data = data[~data['Chủ đầu tư'].str.contains('Đang cập nhật', case=False, na=False)].reset_index(drop=True)\n",
    "data = data[~data['Tên dự án'].str.contains('Đang cập nhật', case=False, na=False)].reset_index(drop=True)\n",
    "data = data[~data['Mức giá'].str.contains(r'Thỏa thuận|nghìn', case=False, na=False)].reset_index(drop=True)\n",
    "data = data[~data['Số phòng ngủ'].str.contains('Không có thông tin', case=False, na=False)].reset_index(drop=True)\n",
    "data = data[~data['Số toilet'].str.contains('Không có thông tin', case=False, na=False)].reset_index(drop=True)\n",
    "data = data[~data['Pháp lý'].str.contains('Không có thông tin', case=False, na=False)].reset_index(drop=True)"
   ]
  },
  {
   "cell_type": "markdown",
   "metadata": {},
   "source": [
    "Sửa form và chuẩn hóa (Mức độ của Pháp lý và Nội thất)"
   ]
  },
  {
   "cell_type": "code",
   "execution_count": 36,
   "metadata": {},
   "outputs": [],
   "source": [
    "import unicodedata\n",
    "\n",
    "# Hàm chuẩn hóa Unicode\n",
    "def normalize_unicode(text):\n",
    "    if pd.isna(text):  # Kiểm tra giá trị null\n",
    "        return text\n",
    "    return unicodedata.normalize('NFKC', text)\n",
    "\n",
    "# Áp dụng chuẩn hóa cho các cột\n",
    "data['Quận/Huyện'] = data['Quận/Huyện'].apply(normalize_unicode).str.replace(r'Quận|Huyện', '', regex=True).str.strip().str.title()\n",
    "data['Xã/Phường'] = data['Xã/Phường'].apply(normalize_unicode).str.replace(r'Xã|Phường|Thị trấn', '', regex=True).str.strip().str.title()\n"
   ]
  },
  {
   "cell_type": "code",
   "execution_count": 37,
   "metadata": {},
   "outputs": [
    {
     "data": {
      "text/plain": [
       "12141"
      ]
     },
     "execution_count": 37,
     "metadata": {},
     "output_type": "execute_result"
    }
   ],
   "source": [
    "len(data)"
   ]
  },
  {
   "cell_type": "code",
   "execution_count": 38,
   "metadata": {},
   "outputs": [
    {
     "data": {
      "text/plain": [
       "Quận/Huyện\n",
       "Thị Trấn Văn Điển Thanh Trì       1\n",
       "Mê Linh                           2\n",
       "Phú Xuyên                         6\n",
       "Mỹ Đức                           11\n",
       "Phúc Thọ                         14\n",
       "Ứng Hòa                          15\n",
       "Thường Tín                       23\n",
       "Sóc Sơn                          24\n",
       "Thạch Thất                       26\n",
       "Thanh Oai                        83\n",
       "Quốc Oai                         88\n",
       "Chương Mỹ                       104\n",
       "Đông Anh                        204\n",
       "Hoàn Kiếm                       289\n",
       "Thanh Trì                       361\n",
       "Bắc Từ Liêm                     437\n",
       "Gia Lâm                         452\n",
       "Đống Đa                         560\n",
       "Ba Đình                         707\n",
       "Long Biên                       779\n",
       "Tây Hồ                          835\n",
       "Hai Bà Trưng                    880\n",
       "Hoàng Mai                       883\n",
       "Cầu Giấy                       1126\n",
       "Thanh Xuân                     1137\n",
       "Hà Đông                        1450\n",
       "Nam Từ Liêm                    1644\n",
       "Name: count, dtype: int64"
      ]
     },
     "execution_count": 38,
     "metadata": {},
     "output_type": "execute_result"
    }
   ],
   "source": [
    "data['Quận/Huyện'].value_counts().sort_values()"
   ]
  },
  {
   "cell_type": "code",
   "execution_count": 39,
   "metadata": {},
   "outputs": [],
   "source": [
    "type = data['Phân loại']\n",
    "for form in ['Căn hộ chung cư', 'Chung cư mini, căn hộ dịch vụ', 'Nhà riêng', 'Nhà Biệt thự, liền kề', 'Nhà mặt phố',\n",
    "            'Shophouse, nhà phố thương mại', 'Đất nền dự án', 'Bán đất', 'Condotel', 'Trang trại, khu nghỉ dưỡng', 'Kho, nhà xưởng', 'Bất động sản khác']:\n",
    "    wrong_form = type.str.contains(form, case=False, na=False)\n",
    "    data.loc[wrong_form, 'Phân loại'] = form\n"
   ]
  },
  {
   "cell_type": "code",
   "execution_count": 40,
   "metadata": {},
   "outputs": [],
   "source": [
    "area = data['Diện tích']\n",
    "area = area.str.replace(' m²', '').str.replace('.', '').str.replace(',', '.').astype(np.float32)"
   ]
  },
  {
   "cell_type": "code",
   "execution_count": 41,
   "metadata": {},
   "outputs": [],
   "source": [
    "price = data['Mức giá']\n",
    "\n",
    "wrong_form = price.str.contains('/m²', case=False, na=False)\n",
    "cleaned_wrong_form = data.loc[wrong_form, 'Mức giá'].str.replace('/m²', '').str.replace(',', '.')\n",
    "data.loc[wrong_form, 'Mức giá'] = cleaned_wrong_form\n",
    "\n",
    "price_area = price.str.contains('tỷ', case=False, na=False)\n",
    "cleaned_price_area = data.loc[price_area, 'Mức giá'].str.replace(' tỷ', '').str.replace(',', '.').astype(np.float32)*1000\n",
    "price_per_square = (cleaned_price_area / area[price_area])\n",
    "data.loc[price_area, 'Mức giá'] = price_per_square\n",
    "\n",
    "wrong_form = price.str.contains(' triệu', case=False, na=False)\n",
    "cleaned_wrong_form = data.loc[wrong_form, 'Mức giá'].str.replace(' triệu', '').str.replace(',', '.').astype(np.float32)\n",
    "data.loc[wrong_form, 'Mức giá'] = cleaned_wrong_form"
   ]
  },
  {
   "cell_type": "code",
   "execution_count": 42,
   "metadata": {},
   "outputs": [],
   "source": [
    "bed_room = data['Số phòng ngủ']\n",
    "bed_room = bed_room.str.replace(' phòng', '').astype(np.float32)\n",
    "toilet_room = data['Số toilet']\n",
    "toilet_room = toilet_room.str.replace(' phòng', '').astype(np.float32)"
   ]
  },
  {
   "cell_type": "code",
   "execution_count": 43,
   "metadata": {},
   "outputs": [],
   "source": [
    "legal = data['Pháp lý']\n",
    "\n",
    "wrong_form = legal.str.contains('.', case=False, na=False)\n",
    "data.loc[wrong_form, 'Pháp lý'] = data.loc[wrong_form, 'Pháp lý'].str.replace('.', '')\n",
    "\n",
    "wrong_form = legal.str.contains(r'hợp đồng|HĐMB|HDMB|mua bán', case=False, na=False)\n",
    "data.loc[wrong_form, 'Pháp lý'] = 3 # \"Hợp đồng mua bán\"\n",
    "\n",
    "wrong_form = legal.str.contains('ủy quyền', case=False, na=False)\n",
    "data.loc[wrong_form, 'Pháp lý'] = 2 # \"ủy quyền\"\n",
    "\n",
    "wrong_form = legal.str.contains(r'đang chờ sổ|vi bằng', case=False, na=False)\n",
    "data.loc[wrong_form, 'Pháp lý'] = 1 #\"Chưa có\"\n",
    "\n",
    "wrong_form = legal.str.contains(r'sổ|so|Sổ đỏ/ Sổ hồng|đầy đủ|Đủ|hợp lệ|Số đỏ|sạch|sang tên|phân lô|xã|quân đội|Pháp lý', case=False, na=False)\n",
    "data.loc[wrong_form, 'Pháp lý'] = 4 #'Đầy đủ'"
   ]
  },
  {
   "cell_type": "code",
   "execution_count": 44,
   "metadata": {},
   "outputs": [
    {
     "data": {
      "text/plain": [
       "0                     4\n",
       "7                     3\n",
       "245                   1\n",
       "10356    Sở hữu lâu dài\n",
       "11719                LH\n",
       "12020                 2\n",
       "Name: Pháp lý, dtype: object"
      ]
     },
     "execution_count": 44,
     "metadata": {},
     "output_type": "execute_result"
    }
   ],
   "source": [
    "data['Pháp lý'].drop_duplicates()"
   ]
  },
  {
   "cell_type": "code",
   "execution_count": 45,
   "metadata": {},
   "outputs": [],
   "source": [
    "furniture = data['Nội thất']\n",
    "wrong_form = furniture.str.contains('.', case=False, na=False)\n",
    "data.loc[wrong_form, 'Nội thất'] = data.loc[wrong_form, 'Nội thất'].str.replace('.', '')\n",
    "\n",
    "wrong_form = furniture.str.contains(r'Cao cấp|5|đẳng cấp|SIÊU VÍP|Co cấp|tiền tỉ|VIP|cáo cấp|đẹp|ngoại|semi|hiện đại|sang|nhập khẩu|xịn|châu âu|tâm huyết|hien dai', case=False, na=False)\n",
    "data.loc[wrong_form, 'Nội thất'] = 4 #'Cao cấp'\n",
    "\n",
    "wrong_form = furniture.str.contains(r'cơ bản|tặng|ổn|NTCB|nguyên bản|nhà mới|điều|mới|thang máy|kèm nội thất|41518075|hầm chìm', case=False, na=False)\n",
    "data.loc[wrong_form, 'Nội thất'] = 2 #'Cơ bản'\n",
    "\n",
    "wrong_form = furniture.str.contains(r'Đầy đủ|Nội thất:|như ảnh|chủ đầu tư|từng phòng|sẵn|Phun|full|toàn bộ|gắn tường|liên tường|liền tường|đủ|cẩn thận|hoàn thiện nội thất', case=False, na=False)\n",
    "data.loc[wrong_form, 'Nội thất'] = 3 #'Đầy đủ'\n",
    "\n",
    "wrong_form = furniture.str.contains(r'Xây thô|Thô|Không nội thất', case=False, na=False)\n",
    "data.loc[wrong_form, 'Nội thất'] = 1 #'Không nội thất' \n"
   ]
  },
  {
   "cell_type": "code",
   "execution_count": 46,
   "metadata": {},
   "outputs": [
    {
     "data": {
      "text/plain": [
       "0                        3\n",
       "1                        1\n",
       "2                        2\n",
       "58                       4\n",
       "10770    - Bàn giao NB CĐT\n",
       "Name: Nội thất, dtype: object"
      ]
     },
     "execution_count": 46,
     "metadata": {},
     "output_type": "execute_result"
    }
   ],
   "source": [
    "data['Nội thất'].drop_duplicates()"
   ]
  },
  {
   "cell_type": "code",
   "execution_count": 47,
   "metadata": {},
   "outputs": [],
   "source": [
    "project_name = data['Tên dự án']\n",
    "wrong_form = project_name.str.contains('Không có thông tin', case=False, na=False)\n",
    "data.loc[wrong_form, 'Tên dự án'] = \"Không phải dự án\"\n",
    "\n",
    "investment = data['Chủ đầu tư']\n",
    "wrong_form = investment.str.contains('Không có thông tin', case=False, na=False)\n",
    "data.loc[wrong_form, 'Chủ đầu tư'] = 'Không có chủ đầu tư'\n"
   ]
  },
  {
   "cell_type": "code",
   "execution_count": 48,
   "metadata": {},
   "outputs": [],
   "source": [
    "front = data['Mặt tiền']\n",
    "wrong_form = front.str.contains(' m', case=False, na=False)\n",
    "cleaned_wrong_form = data.loc[wrong_form, 'Mặt tiền'].str.replace(' m', '').str.replace(',', '.').astype(np.float32)\n",
    "data.loc[wrong_form, 'Mặt tiền'] = cleaned_wrong_form"
   ]
  },
  {
   "cell_type": "markdown",
   "metadata": {},
   "source": [
    "### Chuẩn bị dữ liệu ghi vào file đích"
   ]
  },
  {
   "cell_type": "code",
   "execution_count": 49,
   "metadata": {},
   "outputs": [],
   "source": [
    "import re\n",
    "def extract_info(column):\n",
    "    extracted_data = []\n",
    "    for item in column:\n",
    "        if isinstance(item, str):\n",
    "            # Trích xuất đường vào\n",
    "            road_width = re.search(r'Đường vào:\\s*([\\d.,]+)\\s*m', item)\n",
    "            road_width_value = float(road_width.group(1).replace(',', '.')) if road_width else None\n",
    "\n",
    "            # Trích xuất số tầng\n",
    "            floors = re.search(r'Số tầng:\\s*(\\d+)', item)\n",
    "            floors_value = int(floors.group(1)) if floors else None\n",
    "\n",
    "             # Trích xuất số tòa\n",
    "            buildings = re.search(r'Số tòa:\\s*([\\d.,]+)', item)\n",
    "            buildings_value = int(buildings.group(1).replace('.', '')) if buildings else None\n",
    "\n",
    "            # Trích xuất số căn hộ\n",
    "            houses = re.search(r'Số căn hộ:\\s*([\\d.,]+)', item)\n",
    "            houses_value = int(houses.group(1).replace('.', '')) if houses else None\n",
    "            # Thêm vào danh sách\n",
    "            extracted_data.append({'Đường vào': road_width_value, 'Số tầng': floors_value, 'Số tòa': buildings_value, 'Số căn hộ': houses_value})\n",
    "        else:\n",
    "            extracted_data.append({'Đường vào': None, 'Số tầng': None, 'Số tòa': None, 'Số căn hộ': None})\n",
    "    return extracted_data\n",
    "\n",
    "# Trích xuất thông tin từ \"Thông tin khác\"\n",
    "info = extract_info(data['Thông tin khác'])\n",
    "\n",
    "# Tạo DataFrame từ kết quả trích xuất\n",
    "info_df = pd.DataFrame(info)\n"
   ]
  },
  {
   "cell_type": "code",
   "execution_count": 50,
   "metadata": {},
   "outputs": [],
   "source": [
    "# Kết hợp tất cả dữ liệu\n",
    "cleaned_data = pd.DataFrame({\n",
    "    'Xã/Phường': data['Xã/Phường'],\n",
    "    'Quận/Huyện': data['Quận/Huyện'],\n",
    "    'Chủ đầu tư': data['Chủ đầu tư'],\n",
    "    'Tên dự án': data['Tên dự án'],\n",
    "    'Loại hình': data['Phân loại'],\n",
    "    'Diện tích': area,\n",
    "    'Mức giá': price,\n",
    "    'Số phòng ngủ': bed_room,\n",
    "    'Số toilet': toilet_room,\n",
    "    'Pháp lý': legal,\n",
    "    'Nội thất': furniture,\n",
    "    'Mặt tiền': data['Mặt tiền'],\n",
    "    'Đường vào': info_df['Đường vào'],\n",
    "    'Số tầng': info_df['Số tầng'],\n",
    "    'Số tòa': info_df['Số tòa'],\n",
    "    'Số căn hộ': info_df['Số căn hộ'],\n",
    "    'Hướng nhà': data['Hướng nhà'],\n",
    "    'Hướng ban công': data['Hướng ban công'],\n",
    "    'Lịch sử giá': data['Lịch sử giá'],\n",
    "    'Khoảng giá': data['Khoảng giá']\n",
    "})"
   ]
  },
  {
   "cell_type": "code",
   "execution_count": 51,
   "metadata": {},
   "outputs": [
    {
     "data": {
      "text/plain": [
       "np.False_"
      ]
     },
     "execution_count": 51,
     "metadata": {},
     "output_type": "execute_result"
    }
   ],
   "source": [
    "cleaned_data['Xã/Phường'].str.contains(r'Xã/Phường/Thị Trấn', na=False).any()\n"
   ]
  },
  {
   "cell_type": "code",
   "execution_count": 52,
   "metadata": {},
   "outputs": [
    {
     "data": {
      "text/plain": [
       "np.False_"
      ]
     },
     "execution_count": 52,
     "metadata": {},
     "output_type": "execute_result"
    }
   ],
   "source": [
    "cleaned_data['Quận/Huyện'].str.contains(r'Quận|Huyện', na=False).any()"
   ]
  },
  {
   "cell_type": "markdown",
   "metadata": {},
   "source": [
    "### Mã hóa dữ liệu giá"
   ]
  },
  {
   "cell_type": "code",
   "execution_count": 53,
   "metadata": {},
   "outputs": [],
   "source": [
    "month_price_path = '../Data/priceData/month_price.csv'\n",
    "quarter_price_path = '../Data/priceData/quarter_price.csv'\n",
    "\n",
    "history_price = pd.DataFrame(index=cleaned_data.index)\n",
    "price_data = cleaned_data[['Lịch sử giá', 'Khoảng giá']].copy()\n",
    "\n",
    "for idx, (history, price_range_str) in price_data.iterrows():\n",
    "    entries = history.split('; ')\n",
    "    price_ranges = price_range_str.split('; ')\n",
    "    \n",
    "    for i, entry in enumerate(entries):\n",
    "        try:\n",
    "            period, price = entry.split(': ')\n",
    "            price_value = float(price.replace(' tr/m²', '').replace(',', '.'))\n",
    "            \n",
    "            min_price, max_price = price_ranges[i].split()\n",
    "            min_value = float(min_price.replace(',', '.'))\n",
    "            max_value = float(max_price.replace(',', '.'))\n",
    "\n",
    "            history_price.loc[idx, period.strip()] = f\"{min_value} {price_value} {max_value}\"\n",
    "            \n",
    "        except:\n",
    "            pass\n",
    "\n",
    "month_price = history_price[history_price['Giá Q3/24'].isna() & history_price['Giá T10/24'].notna()].drop(\n",
    "    columns=['Giá Q3/22', 'Giá Q4/22', 'Giá Q1/23', 'Giá Q2/23', 'Giá Q3/23', 'Giá Q4/23', 'Giá Q1/24', 'Giá Q2/24', 'Giá Q3/24']\n",
    ")\n",
    "\n",
    "quarter_price = history_price[history_price['Giá Q3/24'].notna()].drop(\n",
    "    columns=['Giá T10/22', 'Giá T11/22', 'Giá T12/22', 'Giá T1/23', 'Giá T2/23', 'Giá T3/23', 'Giá T4/23', 'Giá T5/23', 'Giá T6/23', 'Giá T7/23', 'Giá T8/23', 'Giá T9/23', 'Giá T10/23', 'Giá T11/23', 'Giá T12/23', 'Giá T1/24', 'Giá T2/24', 'Giá T3/24', 'Giá T4/24', 'Giá T5/24', 'Giá T6/24', 'Giá T7/24', 'Giá T8/24', 'Giá T9/24', 'Giá T10/24']\n",
    ")\n",
    "\n",
    "none_price = history_price[history_price['Giá Q3/24'].isna() & history_price['Giá T10/24'].isna()]\n",
    "\n",
    "month_indices = month_price.index\n",
    "quarter_indices = quarter_price.index\n",
    "none_indices = none_price.index\n",
    "\n",
    "cleaned_data.loc[month_indices, 'Lịch sử giá'] = 'M'\n",
    "cleaned_data.loc[quarter_indices, 'Lịch sử giá'] = 'Q'\n",
    "cleaned_data.loc[none_indices, 'Lịch sử giá'] = 'N'\n",
    "\n",
    "cleaned_data.drop(columns=['Khoảng giá'], inplace=True)\n",
    "cleaned_data.rename(columns={\"Lịch sử giá\" : \"Mã lịch sử giá\"}, inplace=True)"
   ]
  },
  {
   "cell_type": "markdown",
   "metadata": {},
   "source": [
    "### Ghi vào các file đích"
   ]
  },
  {
   "cell_type": "code",
   "execution_count": 54,
   "metadata": {},
   "outputs": [],
   "source": [
    "cleaned_data.to_csv(path_data_goal, index=False)\n",
    "month_price.to_csv(month_price_path, index=True, index_label=\"index\")\n",
    "quarter_price.to_csv(quarter_price_path, index=True, index_label=\"index\")"
   ]
  },
  {
   "cell_type": "code",
   "execution_count": 55,
   "metadata": {},
   "outputs": [
    {
     "data": {
      "text/plain": [
       "12141"
      ]
     },
     "execution_count": 55,
     "metadata": {},
     "output_type": "execute_result"
    }
   ],
   "source": [
    "len(cleaned_data)"
   ]
  },
  {
   "cell_type": "code",
   "execution_count": 56,
   "metadata": {},
   "outputs": [
    {
     "data": {
      "text/plain": [
       "Mã lịch sử giá\n",
       "M    8475\n",
       "N    2249\n",
       "Q    1417\n",
       "Name: count, dtype: int64"
      ]
     },
     "execution_count": 56,
     "metadata": {},
     "output_type": "execute_result"
    }
   ],
   "source": [
    "cleaned_data['Mã lịch sử giá'].value_counts()"
   ]
  },
  {
   "cell_type": "code",
   "execution_count": 57,
   "metadata": {},
   "outputs": [
    {
     "data": {
      "text/plain": [
       "Quận/Huyện\n",
       "Thị Trấn Văn Điển Thanh Trì       1\n",
       "Mê Linh                           2\n",
       "Phú Xuyên                         6\n",
       "Mỹ Đức                           11\n",
       "Phúc Thọ                         14\n",
       "Ứng Hòa                          15\n",
       "Thường Tín                       23\n",
       "Sóc Sơn                          24\n",
       "Thạch Thất                       26\n",
       "Thanh Oai                        83\n",
       "Quốc Oai                         88\n",
       "Chương Mỹ                       104\n",
       "Đông Anh                        204\n",
       "Hoàn Kiếm                       289\n",
       "Thanh Trì                       361\n",
       "Bắc Từ Liêm                     437\n",
       "Gia Lâm                         452\n",
       "Đống Đa                         560\n",
       "Ba Đình                         707\n",
       "Long Biên                       779\n",
       "Tây Hồ                          835\n",
       "Hai Bà Trưng                    880\n",
       "Hoàng Mai                       883\n",
       "Cầu Giấy                       1126\n",
       "Thanh Xuân                     1137\n",
       "Hà Đông                        1450\n",
       "Nam Từ Liêm                    1644\n",
       "Name: count, dtype: int64"
      ]
     },
     "execution_count": 57,
     "metadata": {},
     "output_type": "execute_result"
    }
   ],
   "source": [
    "cleaned_data['Quận/Huyện'].value_counts().sort_values()"
   ]
  },
  {
   "cell_type": "code",
   "execution_count": 58,
   "metadata": {},
   "outputs": [
    {
     "data": {
      "text/plain": [
       "Quận/Huyện\n",
       "Phú Xuyên         6\n",
       "Mỹ Đức           11\n",
       "Phúc Thọ         14\n",
       "Thạch Thất       15\n",
       "Ứng Hòa          15\n",
       "Thường Tín       23\n",
       "Sóc Sơn          24\n",
       "Thanh Trì        25\n",
       "Bắc Từ Liêm      26\n",
       "Quốc Oai         31\n",
       "Chương Mỹ        37\n",
       "Hà Đông          44\n",
       "Hoàng Mai        46\n",
       "Tây Hồ           52\n",
       "Thanh Xuân       53\n",
       "Thanh Oai        57\n",
       "Đống Đa          66\n",
       "Hai Bà Trưng     94\n",
       "Đông Anh         97\n",
       "Hoàn Kiếm       103\n",
       "Gia Lâm         110\n",
       "Ba Đình         162\n",
       "Nam Từ Liêm     169\n",
       "Cầu Giấy        220\n",
       "Long Biên       749\n",
       "dtype: int64"
      ]
     },
     "execution_count": 58,
     "metadata": {},
     "output_type": "execute_result"
    }
   ],
   "source": [
    "# Đếm số lượng 'Mã lịch sử giá' == 'N' trong mỗi 'Quận/Huyện'\n",
    "count_n_per_area = cleaned_data[cleaned_data['Mã lịch sử giá'] == 'N'].groupby('Quận/Huyện').size()\n",
    "count_n_per_area.sort_values()"
   ]
  },
  {
   "cell_type": "code",
   "execution_count": 59,
   "metadata": {},
   "outputs": [],
   "source": [
    "import pandas as pd\n",
    "cleaned_data = pd.read_csv(path_data_goal)"
   ]
  },
  {
   "cell_type": "code",
   "execution_count": 60,
   "metadata": {},
   "outputs": [
    {
     "data": {
      "text/plain": [
       "0        Ngọc Khánh\n",
       "1        Thành Công\n",
       "2         Liễu Giai\n",
       "3         Trúc Bạch\n",
       "4            Kim Mã\n",
       "            ...    \n",
       "12136     Đại Thành\n",
       "12137     Đại Thành\n",
       "12138       Sài Sơn\n",
       "12139     Hòa Thạch\n",
       "12140     Đông Xuân\n",
       "Name: Xã/Phường, Length: 12141, dtype: object"
      ]
     },
     "execution_count": 60,
     "metadata": {},
     "output_type": "execute_result"
    }
   ],
   "source": [
    "cleaned_data['Xã/Phường'].str.title()"
   ]
  },
  {
   "cell_type": "code",
   "execution_count": null,
   "metadata": {},
   "outputs": [],
   "source": []
  }
 ],
 "metadata": {
  "kernelspec": {
   "display_name": ".venv",
   "language": "python",
   "name": "python3"
  },
  "language_info": {
   "codemirror_mode": {
    "name": "ipython",
    "version": 3
   },
   "file_extension": ".py",
   "mimetype": "text/x-python",
   "name": "python",
   "nbconvert_exporter": "python",
   "pygments_lexer": "ipython3",
   "version": "3.13.0"
  }
 },
 "nbformat": 4,
 "nbformat_minor": 2
}
