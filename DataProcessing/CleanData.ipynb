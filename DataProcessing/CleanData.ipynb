{
 "cells": [
  {
   "cell_type": "code",
   "execution_count": 368,
   "metadata": {},
   "outputs": [],
   "source": [
    "import pandas as pd\n",
    "import numpy as np\n",
    "\n",
    "# path_data_original = '../Data/originalData/data_project.csv'\n",
    "# path_data_goal = '../Data/cleanedData/cleaned_data_project.csv'\n",
    "\n",
    "path_data_original = '../Data/originalData/data_original.csv'\n",
    "path_data_goal = '../Data/cleanedData/cleaned_data.csv'"
   ]
  },
  {
   "cell_type": "code",
   "execution_count": 369,
   "metadata": {},
   "outputs": [],
   "source": [
    "# Drop duplicate elements\n",
    "data = pd.read_csv(path_data_original).copy()\n",
    "data = data.drop(columns=['Mặt tiền', 'Hướng nhà', 'Hướng ban công', 'Thông tin khác'])\n",
    "data = data.drop_duplicates()\n",
    "data = data[data['Tỉnh/Thành phố'].str.contains('Hà Nội', case=False, na=False)].reset_index(drop=True)\n",
    "\n",
    "data = data[~data['Mức giá'].str.contains('Thỏa thuận', case=False, na=False)].reset_index(drop=True)\n",
    "data = data[~data['Số phòng ngủ'].str.contains('Không có thông tin', case=False, na=False)].reset_index(drop=True)\n",
    "data = data[~data['Số toilet'].str.contains('Không có thông tin', case=False, na=False)].reset_index(drop=True)\n",
    "data = data[~data['Pháp lý'].str.contains('Không có thông tin', case=False, na=False)].reset_index(drop=True)\n",
    "data = data[~data['Nội thất'].str.contains('Không có thông tin', case=False, na=False)].reset_index(drop=True)"
   ]
  },
  {
   "cell_type": "code",
   "execution_count": 370,
   "metadata": {},
   "outputs": [],
   "source": [
    "# Clean quận huyện xã phường\n",
    "data['Quận/Huyện'] = data['Quận/Huyện'].str.replace(r'Quận|Huyện', '', regex=True).str.strip()\n",
    "data['Xã/Phường'] = data['Xã/Phường'].str.replace(r'Xã|Phường|Thị trấn', '', regex=True).str.strip()"
   ]
  },
  {
   "cell_type": "code",
   "execution_count": 371,
   "metadata": {},
   "outputs": [],
   "source": [
    "# Clean area Data\n",
    "area = data['Diện tích']\n",
    "area = area.str.replace(' m²', '').str.replace('.', '').str.replace(',', '.').astype(np.float32)"
   ]
  },
  {
   "cell_type": "code",
   "execution_count": 372,
   "metadata": {},
   "outputs": [],
   "source": [
    "# Clean price Data\n",
    "\n",
    "price = data['Mức giá']\n",
    "\n",
    "wrong_form = price.str.contains('/m²', case=False, na=False)\n",
    "cleaned_wrong_form = data.loc[wrong_form, 'Mức giá'].str.replace('/m²', '').str.replace(',', '.')\n",
    "data.loc[wrong_form, 'Mức giá'] = cleaned_wrong_form\n",
    "\n",
    "# Convert to price per square\n",
    "price_area = price.str.contains('tỷ', case=False, na=False)\n",
    "cleaned_price_area = data.loc[price_area, 'Mức giá'].str.replace(' tỷ', '').str.replace(',', '.').astype(np.float32)*1000\n",
    "price_per_square = (cleaned_price_area / area[price_area])\n",
    "data.loc[price_area, 'Mức giá'] = price_per_square\n",
    "\n",
    "# Clean form\n",
    "wrong_form = price.str.contains(' triệu/m²', case=False, na=False)\n",
    "cleaned_wrong_form = data.loc[wrong_form, 'Mức giá'].str.replace(' triệu', '').str.replace(',', '.').astype(np.float32)\n",
    "data.loc[wrong_form, 'Mức giá'] = cleaned_wrong_form\n"
   ]
  },
  {
   "cell_type": "code",
   "execution_count": 373,
   "metadata": {},
   "outputs": [],
   "source": [
    "# Clean room\n",
    "\n",
    "bed_room = data['Số phòng ngủ']\n",
    "bed_room = bed_room.str.replace(' phòng', '').astype(np.float32)\n",
    "\n",
    "toilet_room = data['Số toilet']\n",
    "toilet_room = toilet_room.str.replace(' phòng', '').astype(np.float32)\n"
   ]
  },
  {
   "cell_type": "code",
   "execution_count": 374,
   "metadata": {},
   "outputs": [],
   "source": [
    "# Clean legal\n",
    "\n",
    "legal = data['Pháp lý']\n",
    "wrong_form = legal.str.contains('HĐMB', case=False, na=False)\n",
    "data.loc[wrong_form, 'Pháp lý'] = data.loc[wrong_form, 'Pháp lý'].str.replace('HĐMB', \"Hợp đồng mua bán\")\n",
    "\n",
    "wrong_form = legal.str.contains('.', case=False, na=False)\n",
    "data.loc[wrong_form, 'Pháp lý'] = data.loc[wrong_form, 'Pháp lý'].str.replace('.', '')\n",
    "\n",
    "wrong_form = legal.str.contains('đang chờ sổ', case=False, na=False)\n",
    "data.loc[wrong_form, 'Pháp lý'] = \"Chưa có\"\n",
    "\n",
    "wrong_form = legal.str.contains(r'sổ|đầy đủ', case=False, na=False)\n",
    "data.loc[wrong_form, 'Pháp lý'] = 'Đầy đủ'"
   ]
  },
  {
   "cell_type": "code",
   "execution_count": 375,
   "metadata": {},
   "outputs": [],
   "source": [
    "# Clean furniture\n",
    "\n",
    "furniture = data['Nội thất']\n",
    "wrong_form = furniture.str.contains('.', case=False, na=False)\n",
    "data.loc[wrong_form, 'Nội thất'] = data.loc[wrong_form, 'Nội thất'].str.replace('.', '')\n",
    "\n",
    "wrong_form = furniture.str.contains(r'Cao cấp|đẹp|ngoại|semi', case=False, na=False)\n",
    "data.loc[wrong_form, 'Nội thất'] = 'Cao cấp'\n",
    "\n",
    "wrong_form = furniture.str.contains(r'cơ bản|nguyên bản|nhà mới|điều|mới', case=False, na=False)\n",
    "data.loc[wrong_form, 'Nội thất'] = 'Cơ bản'\n",
    "\n",
    "wrong_form = furniture.str.contains(r'Đầy đủ|full|toàn bộ|liên tường', case=False, na=False)\n",
    "data.loc[wrong_form, 'Nội thất'] = 'Đầy đủ'"
   ]
  },
  {
   "cell_type": "code",
   "execution_count": 376,
   "metadata": {},
   "outputs": [],
   "source": [
    "cleaned_data = pd.DataFrame({\n",
    "    'Xã/Phường': data['Xã/Phường'],\n",
    "    'Quận/Huyện': data['Quận/Huyện'],\n",
    "    'Chủ đầu tư': data['Chủ đầu tư'],\n",
    "    'Tên dự án': data['Tên dự án'],\n",
    "    'Diện tích (m²)': area,\n",
    "    'Mức giá (triệu/m²)': price,\n",
    "    'Số phòng ngủ (phòng)': bed_room,\n",
    "    'Số toilet (phòng)': toilet_room,\n",
    "    'Pháp lý': legal,\n",
    "    'Nội thất': furniture,\n",
    "    'Lịch sử giá': data['Lịch sử giá'],\n",
    "    'Khoảng giá': data['Khoảng giá']\n",
    "})\n",
    "\n",
    "cleaned_data.to_csv(path_data_goal, index=False)"
   ]
  }
 ],
 "metadata": {
  "kernelspec": {
   "display_name": "base",
   "language": "python",
   "name": "python3"
  },
  "language_info": {
   "codemirror_mode": {
    "name": "ipython",
    "version": 3
   },
   "file_extension": ".py",
   "mimetype": "text/x-python",
   "name": "python",
   "nbconvert_exporter": "python",
   "pygments_lexer": "ipython3",
   "version": "3.12.3"
  }
 },
 "nbformat": 4,
 "nbformat_minor": 2
}
