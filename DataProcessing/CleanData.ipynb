{
 "cells": [
  {
   "cell_type": "code",
   "execution_count": 43,
   "metadata": {},
   "outputs": [],
   "source": [
    "import pandas as pd\n",
    "import numpy as np"
   ]
  },
  {
   "cell_type": "code",
   "execution_count": 44,
   "metadata": {},
   "outputs": [],
   "source": [
    "path_data_original = '../Data/originalData/data_project1.csv'\n",
    "path_data_goal = '../Data/cleanedData/cleaned_data_project.csv'"
   ]
  },
  {
   "cell_type": "code",
   "execution_count": 45,
   "metadata": {},
   "outputs": [],
   "source": [
    "\n",
    "# path_data_original = 'Data/originalData/data_original.csv'\n",
    "# path_data_goal = 'Data/cleanedData/cleaned_data.csv'"
   ]
  },
  {
   "cell_type": "code",
   "execution_count": 46,
   "metadata": {},
   "outputs": [],
   "source": [
    "data = pd.read_csv(path_data_original).copy()\n",
    "# data = data.drop(columns=['Mặt tiền', 'Hướng nhà', 'Hướng ban công', 'Thông tin khác'])\n",
    "data = data.drop_duplicates()\n",
    "data = data[data['Tỉnh/Thành phố'].str.contains('Hà Nội', case=False, na=False)].reset_index(drop=True)\n",
    "data = data[~data['Chủ đầu tư'].str.contains('Đang cập nhật', case=False, na=False)].reset_index(drop=True)\n",
    "data = data[~data['Tên dự án'].str.contains('Đang cập nhật', case=False, na=False)].reset_index(drop=True)\n",
    "data = data[~data['Mức giá'].str.contains('Thỏa thuận', case=False, na=False)].reset_index(drop=True)\n",
    "data = data[~data['Số phòng ngủ'].str.contains('Không có thông tin', case=False, na=False)].reset_index(drop=True)\n",
    "data = data[~data['Số toilet'].str.contains('Không có thông tin', case=False, na=False)].reset_index(drop=True)\n",
    "data = data[~data['Pháp lý'].str.contains('Không có thông tin', case=False, na=False)].reset_index(drop=True)\n",
    "data = data[~data['Nội thất'].str.contains('Không có thông tin', case=False, na=False)].reset_index(drop=True)\n",
    "data = data[~data['Đường vào'].str.contains('Không có thông tin', case=False, na=False)].reset_index(drop=True)\n",
    "data = data[~data['Số tầng'].str.contains('Không có thông tin', case=False, na=False)].reset_index(drop=True)"
   ]
  },
  {
   "cell_type": "code",
   "execution_count": 47,
   "metadata": {},
   "outputs": [],
   "source": [
    "data['Quận/Huyện'] = data['Quận/Huyện'].str.replace(r'Quận|Huyện', '', regex=True).str.strip()\n",
    "data['Xã/Phường'] = data['Xã/Phường'].str.replace(r'Xã|Phường|Thị trấn', '', regex=True).str.strip()"
   ]
  },
  {
   "cell_type": "code",
   "execution_count": 48,
   "metadata": {},
   "outputs": [],
   "source": [
    "area = data['Diện tích']\n",
    "area = area.str.replace(' m²', '').str.replace('.', '').str.replace(',', '.').astype(np.float32)"
   ]
  },
  {
   "cell_type": "code",
   "execution_count": 49,
   "metadata": {},
   "outputs": [],
   "source": [
    "price = data['Mức giá']\n",
    "\n",
    "wrong_form = price.str.contains('/m²', case=False, na=False)\n",
    "cleaned_wrong_form = data.loc[wrong_form, 'Mức giá'].str.replace('/m²', '').str.replace(',', '.')\n",
    "data.loc[wrong_form, 'Mức giá'] = cleaned_wrong_form\n",
    "\n",
    "price_area = price.str.contains('tỷ', case=False, na=False)\n",
    "cleaned_price_area = data.loc[price_area, 'Mức giá'].str.replace(' tỷ', '').str.replace(',', '.').astype(np.float32)*1000\n",
    "price_per_square = (cleaned_price_area / area[price_area])\n",
    "data.loc[price_area, 'Mức giá'] = price_per_square\n",
    "\n",
    "wrong_form = price.str.contains(' triệu', case=False, na=False)\n",
    "cleaned_wrong_form = data.loc[wrong_form, 'Mức giá'].str.replace(' triệu', '').str.replace(',', '.').astype(np.float32)\n",
    "data.loc[wrong_form, 'Mức giá'] = cleaned_wrong_form"
   ]
  },
  {
   "cell_type": "code",
   "execution_count": 50,
   "metadata": {},
   "outputs": [],
   "source": [
    "bed_room = data['Số phòng ngủ']\n",
    "bed_room = bed_room.str.replace(' phòng', '').astype(np.float32)\n",
    "toilet_room = data['Số toilet']\n",
    "toilet_room = toilet_room.str.replace(' phòng', '').astype(np.float32)"
   ]
  },
  {
   "cell_type": "code",
   "execution_count": 51,
   "metadata": {},
   "outputs": [],
   "source": [
    "legal = data['Pháp lý']\n",
    "wrong_form = legal.str.contains('HĐMB', case=False, na=False)\n",
    "data.loc[wrong_form, 'Pháp lý'] = data.loc[wrong_form, 'Pháp lý'].str.replace('HĐMB', \"Hợp đồng mua bán\")\n",
    "\n",
    "wrong_form = legal.str.contains('.', case=False, na=False)\n",
    "data.loc[wrong_form, 'Pháp lý'] = data.loc[wrong_form, 'Pháp lý'].str.replace('.', '')\n",
    "\n",
    "wrong_form = legal.str.contains('hợp đồng', case=False, na=False)\n",
    "data.loc[wrong_form, 'Pháp lý'] = \"Hợp đồng mua bán\"\n",
    "\n",
    "wrong_form = legal.str.contains('đang chờ sổ', case=False, na=False)\n",
    "data.loc[wrong_form, 'Pháp lý'] = \"Chưa có\"\n",
    "\n",
    "wrong_form = legal.str.contains(r'sổ|so|Sổ đỏ/ Sổ hồng|đầy đủ', case=False, na=False)\n",
    "data.loc[wrong_form, 'Pháp lý'] = 'Đầy đủ'"
   ]
  },
  {
   "cell_type": "code",
   "execution_count": 52,
   "metadata": {},
   "outputs": [],
   "source": [
    "furniture = data['Nội thất']\n",
    "wrong_form = furniture.str.contains('.', case=False, na=False)\n",
    "data.loc[wrong_form, 'Nội thất'] = data.loc[wrong_form, 'Nội thất'].str.replace('.', '')\n",
    "\n",
    "wrong_form = furniture.str.contains(r'Cao cấp|cáo cấp|đẹp|ngoại|semi|hiện đại|sang|nhập khẩu|xịn|châu âu|tâm huyết|hien dai', case=False, na=False)\n",
    "data.loc[wrong_form, 'Nội thất'] = 'Cao cấp'\n",
    "\n",
    "wrong_form = furniture.str.contains(r'cơ bản|nguyên bản|nhà mới|điều|mới|thang máy|kèm nội thất|41518075|hầm chìm', case=False, na=False)\n",
    "data.loc[wrong_form, 'Nội thất'] = 'Cơ bản'\n",
    "\n",
    "wrong_form = furniture.str.contains(r'Đầy đủ|full|toàn bộ|liên tường|liền tường|đủ|cẩn thận|hoàn thiện nội thất', case=False, na=False)\n",
    "data.loc[wrong_form, 'Nội thất'] = 'Đầy đủ'\n",
    "\n",
    "wrong_form = furniture.str.contains(r'Xây thô|Thô', case=False, na=False)\n",
    "data.loc[wrong_form, 'Nội thất'] = 'Không nội thất' \n"
   ]
  },
  {
   "cell_type": "code",
   "execution_count": 53,
   "metadata": {},
   "outputs": [],
   "source": [
    "project_name = data['Tên dự án']\n",
    "wrong_form = project_name.str.contains('Không có thông tin', case=False, na=False)\n",
    "data.loc[wrong_form, 'Tên dự án'] = \"Tư nhân\"\n",
    "\n",
    "investment = data['Chủ đầu tư']\n",
    "wrong_form = investment.str.contains('Không có thông tin', case=False, na=False)\n",
    "data.loc[wrong_form, 'Chủ đầu tư'] = 'Tư nhân'\n",
    "\n",
    "cleaned_data = pd.DataFrame({\n",
    "    'Xã/Phường': data['Xã/Phường'],\n",
    "    'Quận/Huyện': data['Quận/Huyện'],\n",
    "    'Chủ đầu tư': data['Chủ đầu tư'],\n",
    "    'Tên dự án': data['Tên dự án'],\n",
    "    'Diện tích': area,\n",
    "    'Mức giá': price,\n",
    "    'Số phòng ngủ': bed_room,\n",
    "    'Số toilet': toilet_room,\n",
    "    'Pháp lý': legal,\n",
    "    'Nội thất': furniture,\n",
    "    'Đường vào': data['Đường vào'],\n",
    "    'Số tầng' : data['Số tầng'],\n",
    "    'Lịch sử giá': data['Lịch sử giá'],\n",
    "    'Khoảng giá': data['Khoảng giá']\n",
    "})\n"
   ]
  },
  {
   "cell_type": "code",
   "execution_count": 56,
   "metadata": {},
   "outputs": [
    {
     "ename": "KeyError",
     "evalue": "'Giá Q3/24'",
     "output_type": "error",
     "traceback": [
      "\u001b[1;31m---------------------------------------------------------------------------\u001b[0m",
      "\u001b[1;31mKeyError\u001b[0m                                  Traceback (most recent call last)",
      "Cell \u001b[1;32mIn[56], line 25\u001b[0m\n\u001b[0;32m     22\u001b[0m         \u001b[38;5;28;01mexcept\u001b[39;00m:\n\u001b[0;32m     23\u001b[0m             \u001b[38;5;28;01mpass\u001b[39;00m\n\u001b[1;32m---> 25\u001b[0m month_price \u001b[38;5;241m=\u001b[39m history_price[history_price[\u001b[38;5;124m'\u001b[39m\u001b[38;5;124mGiá Q3/24\u001b[39m\u001b[38;5;124m'\u001b[39m]\u001b[38;5;241m.\u001b[39misna() \u001b[38;5;241m&\u001b[39m history_price[\u001b[38;5;124m'\u001b[39m\u001b[38;5;124mGiá T10/24\u001b[39m\u001b[38;5;124m'\u001b[39m]\u001b[38;5;241m.\u001b[39mnotna()]\u001b[38;5;241m.\u001b[39mdrop(\n\u001b[0;32m     26\u001b[0m     columns\u001b[38;5;241m=\u001b[39m[\u001b[38;5;124m'\u001b[39m\u001b[38;5;124mGiá Q3/22\u001b[39m\u001b[38;5;124m'\u001b[39m, \u001b[38;5;124m'\u001b[39m\u001b[38;5;124mGiá Q4/22\u001b[39m\u001b[38;5;124m'\u001b[39m, \u001b[38;5;124m'\u001b[39m\u001b[38;5;124mGiá Q1/23\u001b[39m\u001b[38;5;124m'\u001b[39m, \u001b[38;5;124m'\u001b[39m\u001b[38;5;124mGiá Q2/23\u001b[39m\u001b[38;5;124m'\u001b[39m, \u001b[38;5;124m'\u001b[39m\u001b[38;5;124mGiá Q3/23\u001b[39m\u001b[38;5;124m'\u001b[39m, \u001b[38;5;124m'\u001b[39m\u001b[38;5;124mGiá Q4/23\u001b[39m\u001b[38;5;124m'\u001b[39m, \u001b[38;5;124m'\u001b[39m\u001b[38;5;124mGiá Q1/24\u001b[39m\u001b[38;5;124m'\u001b[39m, \u001b[38;5;124m'\u001b[39m\u001b[38;5;124mGiá Q2/24\u001b[39m\u001b[38;5;124m'\u001b[39m, \u001b[38;5;124m'\u001b[39m\u001b[38;5;124mGiá Q3/24\u001b[39m\u001b[38;5;124m'\u001b[39m]\n\u001b[0;32m     27\u001b[0m )\n\u001b[0;32m     29\u001b[0m quarter_price \u001b[38;5;241m=\u001b[39m history_price[history_price[\u001b[38;5;124m'\u001b[39m\u001b[38;5;124mGiá Q3/24\u001b[39m\u001b[38;5;124m'\u001b[39m]\u001b[38;5;241m.\u001b[39mnotna()]\u001b[38;5;241m.\u001b[39mdrop(\n\u001b[0;32m     30\u001b[0m     columns\u001b[38;5;241m=\u001b[39m[\u001b[38;5;124m'\u001b[39m\u001b[38;5;124mGiá T10/22\u001b[39m\u001b[38;5;124m'\u001b[39m, \u001b[38;5;124m'\u001b[39m\u001b[38;5;124mGiá T11/22\u001b[39m\u001b[38;5;124m'\u001b[39m, \u001b[38;5;124m'\u001b[39m\u001b[38;5;124mGiá T12/22\u001b[39m\u001b[38;5;124m'\u001b[39m, \u001b[38;5;124m'\u001b[39m\u001b[38;5;124mGiá T1/23\u001b[39m\u001b[38;5;124m'\u001b[39m, \u001b[38;5;124m'\u001b[39m\u001b[38;5;124mGiá T2/23\u001b[39m\u001b[38;5;124m'\u001b[39m, \u001b[38;5;124m'\u001b[39m\u001b[38;5;124mGiá T3/23\u001b[39m\u001b[38;5;124m'\u001b[39m, \u001b[38;5;124m'\u001b[39m\u001b[38;5;124mGiá T4/23\u001b[39m\u001b[38;5;124m'\u001b[39m, \u001b[38;5;124m'\u001b[39m\u001b[38;5;124mGiá T5/23\u001b[39m\u001b[38;5;124m'\u001b[39m, \u001b[38;5;124m'\u001b[39m\u001b[38;5;124mGiá T6/23\u001b[39m\u001b[38;5;124m'\u001b[39m, \u001b[38;5;124m'\u001b[39m\u001b[38;5;124mGiá T7/23\u001b[39m\u001b[38;5;124m'\u001b[39m, \u001b[38;5;124m'\u001b[39m\u001b[38;5;124mGiá T8/23\u001b[39m\u001b[38;5;124m'\u001b[39m, \u001b[38;5;124m'\u001b[39m\u001b[38;5;124mGiá T9/23\u001b[39m\u001b[38;5;124m'\u001b[39m, \u001b[38;5;124m'\u001b[39m\u001b[38;5;124mGiá T10/23\u001b[39m\u001b[38;5;124m'\u001b[39m, \u001b[38;5;124m'\u001b[39m\u001b[38;5;124mGiá T11/23\u001b[39m\u001b[38;5;124m'\u001b[39m, \u001b[38;5;124m'\u001b[39m\u001b[38;5;124mGiá T12/23\u001b[39m\u001b[38;5;124m'\u001b[39m, \u001b[38;5;124m'\u001b[39m\u001b[38;5;124mGiá T1/24\u001b[39m\u001b[38;5;124m'\u001b[39m, \u001b[38;5;124m'\u001b[39m\u001b[38;5;124mGiá T2/24\u001b[39m\u001b[38;5;124m'\u001b[39m, \u001b[38;5;124m'\u001b[39m\u001b[38;5;124mGiá T3/24\u001b[39m\u001b[38;5;124m'\u001b[39m, \u001b[38;5;124m'\u001b[39m\u001b[38;5;124mGiá T4/24\u001b[39m\u001b[38;5;124m'\u001b[39m, \u001b[38;5;124m'\u001b[39m\u001b[38;5;124mGiá T5/24\u001b[39m\u001b[38;5;124m'\u001b[39m, \u001b[38;5;124m'\u001b[39m\u001b[38;5;124mGiá T6/24\u001b[39m\u001b[38;5;124m'\u001b[39m, \u001b[38;5;124m'\u001b[39m\u001b[38;5;124mGiá T7/24\u001b[39m\u001b[38;5;124m'\u001b[39m, \u001b[38;5;124m'\u001b[39m\u001b[38;5;124mGiá T8/24\u001b[39m\u001b[38;5;124m'\u001b[39m, \u001b[38;5;124m'\u001b[39m\u001b[38;5;124mGiá T9/24\u001b[39m\u001b[38;5;124m'\u001b[39m, \u001b[38;5;124m'\u001b[39m\u001b[38;5;124mGiá T10/24\u001b[39m\u001b[38;5;124m'\u001b[39m]\n\u001b[0;32m     31\u001b[0m )\n\u001b[0;32m     33\u001b[0m none_price \u001b[38;5;241m=\u001b[39m history_price[history_price[\u001b[38;5;124m'\u001b[39m\u001b[38;5;124mGiá Q3/24\u001b[39m\u001b[38;5;124m'\u001b[39m]\u001b[38;5;241m.\u001b[39misna() \u001b[38;5;241m&\u001b[39m history_price[\u001b[38;5;124m'\u001b[39m\u001b[38;5;124mGiá T10/24\u001b[39m\u001b[38;5;124m'\u001b[39m]\u001b[38;5;241m.\u001b[39misna()]\n",
      "File \u001b[1;32md:\\Computer\\Compiler\\Anaconda\\Lib\\site-packages\\pandas\\core\\frame.py:4102\u001b[0m, in \u001b[0;36mDataFrame.__getitem__\u001b[1;34m(self, key)\u001b[0m\n\u001b[0;32m   4100\u001b[0m \u001b[38;5;28;01mif\u001b[39;00m \u001b[38;5;28mself\u001b[39m\u001b[38;5;241m.\u001b[39mcolumns\u001b[38;5;241m.\u001b[39mnlevels \u001b[38;5;241m>\u001b[39m \u001b[38;5;241m1\u001b[39m:\n\u001b[0;32m   4101\u001b[0m     \u001b[38;5;28;01mreturn\u001b[39;00m \u001b[38;5;28mself\u001b[39m\u001b[38;5;241m.\u001b[39m_getitem_multilevel(key)\n\u001b[1;32m-> 4102\u001b[0m indexer \u001b[38;5;241m=\u001b[39m \u001b[38;5;28mself\u001b[39m\u001b[38;5;241m.\u001b[39mcolumns\u001b[38;5;241m.\u001b[39mget_loc(key)\n\u001b[0;32m   4103\u001b[0m \u001b[38;5;28;01mif\u001b[39;00m is_integer(indexer):\n\u001b[0;32m   4104\u001b[0m     indexer \u001b[38;5;241m=\u001b[39m [indexer]\n",
      "File \u001b[1;32md:\\Computer\\Compiler\\Anaconda\\Lib\\site-packages\\pandas\\core\\indexes\\range.py:417\u001b[0m, in \u001b[0;36mRangeIndex.get_loc\u001b[1;34m(self, key)\u001b[0m\n\u001b[0;32m    415\u001b[0m         \u001b[38;5;28;01mraise\u001b[39;00m \u001b[38;5;167;01mKeyError\u001b[39;00m(key) \u001b[38;5;28;01mfrom\u001b[39;00m \u001b[38;5;21;01merr\u001b[39;00m\n\u001b[0;32m    416\u001b[0m \u001b[38;5;28;01mif\u001b[39;00m \u001b[38;5;28misinstance\u001b[39m(key, Hashable):\n\u001b[1;32m--> 417\u001b[0m     \u001b[38;5;28;01mraise\u001b[39;00m \u001b[38;5;167;01mKeyError\u001b[39;00m(key)\n\u001b[0;32m    418\u001b[0m \u001b[38;5;28mself\u001b[39m\u001b[38;5;241m.\u001b[39m_check_indexing_error(key)\n\u001b[0;32m    419\u001b[0m \u001b[38;5;28;01mraise\u001b[39;00m \u001b[38;5;167;01mKeyError\u001b[39;00m(key)\n",
      "\u001b[1;31mKeyError\u001b[0m: 'Giá Q3/24'"
     ]
    }
   ],
   "source": [
    "month_price_path = 'Data/priceData/month_price.csv'\n",
    "quarter_price_path = 'Data/priceData/quarter_price.csv'\n",
    "\n",
    "history_price = pd.DataFrame(index=data.index)\n",
    "price_data = cleaned_data[['Lịch sử giá', 'Khoảng giá']].copy()\n",
    "\n",
    "for idx, (history, price_range_str) in price_data.iterrows():\n",
    "    entries = history.split('; ')\n",
    "    price_ranges = price_range_str.split('; ')\n",
    "    \n",
    "    for i, entry in enumerate(entries):\n",
    "        try:\n",
    "            period, price = entry.split(': ')\n",
    "            price_value = float(price.replace(' tr/m²', '').replace(',', '.'))\n",
    "            \n",
    "            min_price, max_price = price_ranges[i].split()\n",
    "            min_value = float(min_price.replace(',', '.'))\n",
    "            max_value = float(max_price.replace(',', '.'))\n",
    "\n",
    "            history_price.loc[idx, period.strip()] = f\"{min_value} {price_value} {max_value}\"\n",
    "            \n",
    "        except:\n",
    "            pass\n",
    "\n",
    "month_price = history_price[history_price['Giá Q3/24'].isna() & history_price['Giá T10/24'].notna()].drop(\n",
    "    columns=['Giá Q3/22', 'Giá Q4/22', 'Giá Q1/23', 'Giá Q2/23', 'Giá Q3/23', 'Giá Q4/23', 'Giá Q1/24', 'Giá Q2/24', 'Giá Q3/24']\n",
    ")\n",
    "\n",
    "quarter_price = history_price[history_price['Giá Q3/24'].notna()].drop(\n",
    "    columns=['Giá T10/22', 'Giá T11/22', 'Giá T12/22', 'Giá T1/23', 'Giá T2/23', 'Giá T3/23', 'Giá T4/23', 'Giá T5/23', 'Giá T6/23', 'Giá T7/23', 'Giá T8/23', 'Giá T9/23', 'Giá T10/23', 'Giá T11/23', 'Giá T12/23', 'Giá T1/24', 'Giá T2/24', 'Giá T3/24', 'Giá T4/24', 'Giá T5/24', 'Giá T6/24', 'Giá T7/24', 'Giá T8/24', 'Giá T9/24', 'Giá T10/24']\n",
    ")\n",
    "\n",
    "none_price = history_price[history_price['Giá Q3/24'].isna() & history_price['Giá T10/24'].isna()]\n",
    "\n",
    "month_indices = month_price.index\n",
    "quarter_indices = quarter_price.index\n",
    "none_indices = none_price.index\n",
    "\n",
    "cleaned_data.loc[month_indices, 'Lịch sử giá'] = 'M'\n",
    "cleaned_data.loc[quarter_indices, 'Lịch sử giá'] = 'Q'\n",
    "cleaned_data.loc[none_indices, 'Lịch sử giá'] = 'N'\n",
    "\n",
    "cleaned_data.drop(columns=['Khoảng giá'], inplace=True)\n",
    "cleaned_data.rename(columns={\"Lịch sử giá\" : \"Mã lịch sử giá\"}, inplace=True)"
   ]
  },
  {
   "cell_type": "code",
   "execution_count": null,
   "metadata": {},
   "outputs": [],
   "source": [
    "cleaned_data.to_csv(path_data_goal, index=False)\n",
    "month_price.to_csv(month_price_path, index=True, index_label=\"index\")\n",
    "quarter_price.to_csv(quarter_price_path, index=True, index_label=\"index\")"
   ]
  }
 ],
 "metadata": {
  "kernelspec": {
   "display_name": "base",
   "language": "python",
   "name": "python3"
  },
  "language_info": {
   "codemirror_mode": {
    "name": "ipython",
    "version": 3
   },
   "file_extension": ".py",
   "mimetype": "text/x-python",
   "name": "python",
   "nbconvert_exporter": "python",
   "pygments_lexer": "ipython3",
   "version": "3.12.3"
  }
 },
 "nbformat": 4,
 "nbformat_minor": 2
}
