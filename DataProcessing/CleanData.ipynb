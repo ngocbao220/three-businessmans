{
 "cells": [
  {
   "cell_type": "code",
   "execution_count": 176,
   "metadata": {},
   "outputs": [],
   "source": [
    "import pandas as pd\n",
    "import numpy as np"
   ]
  },
  {
   "cell_type": "code",
   "execution_count": 177,
   "metadata": {},
   "outputs": [],
   "source": [
    "# path_data_original = '../Data/originalData/data_project.csv'\n",
    "# path_data_goal = '../Data/cleanedData/cleaned_data_project.csv'"
   ]
  },
  {
   "cell_type": "code",
   "execution_count": 178,
   "metadata": {},
   "outputs": [],
   "source": [
    "\n",
    "path_data_original = '../Data/originalData/data_original.csv'\n",
    "path_data_goal = '../Data/cleanedData/cleaned_data.csv'"
   ]
  },
  {
   "cell_type": "code",
   "execution_count": 179,
   "metadata": {},
   "outputs": [],
   "source": [
    "data = pd.read_csv(path_data_original).copy()\n",
    "# data = data.drop(columns=['Mặt tiền', 'Hướng nhà', 'Hướng ban công', 'Thông tin khác'])\n",
    "data = data.drop_duplicates()\n",
    "data = data[data['Tỉnh/Thành phố'].str.contains('Hà Nội', case=False, na=False)].reset_index(drop=True)\n",
    "data = data[~data['Chủ đầu tư'].str.contains('Đang cập nhật', case=False, na=False)].reset_index(drop=True)\n",
    "data = data[~data['Tên dự án'].str.contains('Đang cập nhật', case=False, na=False)].reset_index(drop=True)\n",
    "data = data[~data['Mức giá'].str.contains('Thỏa thuận', case=False, na=False)].reset_index(drop=True)\n",
    "data = data[~data['Số phòng ngủ'].str.contains('Không có thông tin', case=False, na=False)].reset_index(drop=True)\n",
    "data = data[~data['Số toilet'].str.contains('Không có thông tin', case=False, na=False)].reset_index(drop=True)\n",
    "data = data[~data['Pháp lý'].str.contains('Không có thông tin', case=False, na=False)].reset_index(drop=True)\n",
    "data = data[~data['Mặt tiền'].str.contains('Không có thông tin', case=False, na=False)].reset_index(drop=True)"
   ]
  },
  {
   "cell_type": "code",
   "execution_count": 180,
   "metadata": {},
   "outputs": [],
   "source": [
    "data['Quận/Huyện'] = data['Quận/Huyện'].str.replace(r'Quận|Huyện', '', regex=True).str.strip()\n",
    "data['Xã/Phường'] = data['Xã/Phường'].str.replace(r'Xã|Phường|Thị trấn', '', regex=True).str.strip()"
   ]
  },
  {
   "cell_type": "code",
   "execution_count": null,
   "metadata": {},
   "outputs": [],
   "source": [
    "data['Phân Loại']"
   ]
  },
  {
   "cell_type": "code",
   "execution_count": 181,
   "metadata": {},
   "outputs": [],
   "source": [
    "area = data['Diện tích']\n",
    "area = area.str.replace(' m²', '').str.replace('.', '').str.replace(',', '.').astype(np.float32)"
   ]
  },
  {
   "cell_type": "code",
   "execution_count": 182,
   "metadata": {},
   "outputs": [],
   "source": [
    "price = data['Mức giá']\n",
    "\n",
    "wrong_form = price.str.contains('/m²', case=False, na=False)\n",
    "cleaned_wrong_form = data.loc[wrong_form, 'Mức giá'].str.replace('/m²', '').str.replace(',', '.')\n",
    "data.loc[wrong_form, 'Mức giá'] = cleaned_wrong_form\n",
    "\n",
    "price_area = price.str.contains('tỷ', case=False, na=False)\n",
    "cleaned_price_area = data.loc[price_area, 'Mức giá'].str.replace(' tỷ', '').str.replace(',', '.').astype(np.float32)*1000\n",
    "price_per_square = (cleaned_price_area / area[price_area])\n",
    "data.loc[price_area, 'Mức giá'] = price_per_square\n",
    "\n",
    "wrong_form = price.str.contains(' triệu', case=False, na=False)\n",
    "cleaned_wrong_form = data.loc[wrong_form, 'Mức giá'].str.replace(' triệu', '').str.replace(',', '.').astype(np.float32)\n",
    "data.loc[wrong_form, 'Mức giá'] = cleaned_wrong_form"
   ]
  },
  {
   "cell_type": "code",
   "execution_count": 183,
   "metadata": {},
   "outputs": [],
   "source": [
    "bed_room = data['Số phòng ngủ']\n",
    "bed_room = bed_room.str.replace(' phòng', '').astype(np.float32)\n",
    "toilet_room = data['Số toilet']\n",
    "toilet_room = toilet_room.str.replace(' phòng', '').astype(np.float32)"
   ]
  },
  {
   "cell_type": "code",
   "execution_count": 184,
   "metadata": {},
   "outputs": [],
   "source": [
    "legal = data['Pháp lý']\n",
    "wrong_form = legal.str.contains('HĐMB', case=False, na=False)\n",
    "data.loc[wrong_form, 'Pháp lý'] = data.loc[wrong_form, 'Pháp lý'].str.replace('HĐMB', \"Hợp đồng mua bán\")\n",
    "\n",
    "wrong_form = legal.str.contains('.', case=False, na=False)\n",
    "data.loc[wrong_form, 'Pháp lý'] = data.loc[wrong_form, 'Pháp lý'].str.replace('.', '')\n",
    "\n",
    "wrong_form = legal.str.contains('hợp đồng', case=False, na=False)\n",
    "data.loc[wrong_form, 'Pháp lý'] = \"Hợp đồng mua bán\"\n",
    "\n",
    "wrong_form = legal.str.contains('đang chờ sổ', case=False, na=False)\n",
    "data.loc[wrong_form, 'Pháp lý'] = \"Chưa có\"\n",
    "\n",
    "wrong_form = legal.str.contains(r'sổ|so|Sổ đỏ/ Sổ hồng|đầy đủ', case=False, na=False)\n",
    "data.loc[wrong_form, 'Pháp lý'] = 'Đầy đủ'"
   ]
  },
  {
   "cell_type": "code",
   "execution_count": 185,
   "metadata": {},
   "outputs": [],
   "source": [
    "furniture = data['Nội thất']\n",
    "wrong_form = furniture.str.contains('.', case=False, na=False)\n",
    "data.loc[wrong_form, 'Nội thất'] = data.loc[wrong_form, 'Nội thất'].str.replace('.', '')\n",
    "\n",
    "wrong_form = furniture.str.contains(r'Cao cấp|cáo cấp|đẹp|ngoại|semi|hiện đại|sang|nhập khẩu|xịn|châu âu|tâm huyết|hien dai', case=False, na=False)\n",
    "data.loc[wrong_form, 'Nội thất'] = 'Cao cấp'\n",
    "\n",
    "wrong_form = furniture.str.contains(r'cơ bản|nguyên bản|nhà mới|điều|mới|thang máy|kèm nội thất|41518075|hầm chìm', case=False, na=False)\n",
    "data.loc[wrong_form, 'Nội thất'] = 'Cơ bản'\n",
    "\n",
    "wrong_form = furniture.str.contains(r'Đầy đủ|full|toàn bộ|liên tường|liền tường|đủ|cẩn thận|hoàn thiện nội thất', case=False, na=False)\n",
    "data.loc[wrong_form, 'Nội thất'] = 'Đầy đủ'\n",
    "\n",
    "wrong_form = furniture.str.contains(r'Xây thô|Thô', case=False, na=False)\n",
    "data.loc[wrong_form, 'Nội thất'] = 'Không nội thất' \n"
   ]
  },
  {
   "cell_type": "code",
   "execution_count": 186,
   "metadata": {},
   "outputs": [],
   "source": [
    "project_name = data['Tên dự án']\n",
    "wrong_form = project_name.str.contains('Không có thông tin', case=False, na=False)\n",
    "data.loc[wrong_form, 'Tên dự án'] = \"Tư nhân\"\n",
    "\n",
    "investment = data['Chủ đầu tư']\n",
    "wrong_form = investment.str.contains('Không có thông tin', case=False, na=False)\n",
    "data.loc[wrong_form, 'Chủ đầu tư'] = 'Tư nhân'\n"
   ]
  },
  {
   "cell_type": "code",
   "execution_count": 187,
   "metadata": {},
   "outputs": [],
   "source": [
    "front = data['Mặt tiền']\n",
    "wrong_form = front.str.contains(' m', case=False, na=False)\n",
    "cleaned_wrong_form = data.loc[wrong_form, 'Mặt tiền'].str.replace(' m', '').str.replace(',', '.').astype(np.float32)\n",
    "data.loc[wrong_form, 'Mặt tiền'] = cleaned_wrong_form"
   ]
  },
  {
   "cell_type": "code",
   "execution_count": 188,
   "metadata": {},
   "outputs": [],
   "source": [
    "import re\n",
    "def extract_info(column):\n",
    "    extracted_data = []\n",
    "    for item in column:\n",
    "        if isinstance(item, str):\n",
    "            # Trích xuất đường vào\n",
    "            road_width = re.search(r'Đường vào:\\s*([\\d.,]+)\\s*m', item)\n",
    "            road_width_value = float(road_width.group(1).replace(',', '.')) if road_width else None\n",
    "\n",
    "            # Trích xuất số tầng\n",
    "            floors = re.search(r'Số tầng:\\s*(\\d+)', item)\n",
    "            floors_value = int(floors.group(1)) if floors else None\n",
    "\n",
    "            # Thêm vào danh sách\n",
    "            extracted_data.append({'Đường vào': road_width_value, 'Số tầng': floors_value})\n",
    "        else:\n",
    "            extracted_data.append({'Đường vào': None, 'Số tầng': None})\n",
    "    return extracted_data\n",
    "\n",
    "# Trích xuất thông tin từ \"Thông tin khác\"\n",
    "info = extract_info(data['Thông tin khác'])\n",
    "\n",
    "# Tạo DataFrame từ kết quả trích xuất\n",
    "info_df = pd.DataFrame(info)\n"
   ]
  },
  {
   "cell_type": "code",
   "execution_count": 189,
   "metadata": {},
   "outputs": [],
   "source": [
    "# Kết hợp tất cả dữ liệu\n",
    "cleaned_data = pd.DataFrame({\n",
    "    'Xã/Phường': data['Xã/Phường'],\n",
    "    'Quận/Huyện': data['Quận/Huyện'],\n",
    "    'Chủ đầu tư': data['Chủ đầu tư'],\n",
    "    'Tên dự án': data['Tên dự án'],\n",
    "    'Diện tích': area,\n",
    "    'Mức giá': price,\n",
    "    'Số phòng ngủ': bed_room,\n",
    "    'Số toilet': toilet_room,\n",
    "    'Pháp lý': legal,\n",
    "    'Nội thất': furniture,\n",
    "    'Mặt tiền': data['Mặt tiền'],\n",
    "    'Đường vào': info_df['Đường vào'],\n",
    "    'Số tầng': info_df['Số tầng'],\n",
    "    'Lịch sử giá': data['Lịch sử giá'],\n",
    "    'Khoảng giá': data['Khoảng giá']\n",
    "})\n",
    "\n",
    "# Lọc các hàng có giá trị NaN ở \"Đường vào\" hoặc \"Số tầng\"\n",
    "cleaned_data = cleaned_data.dropna(subset=['Đường vào', 'Số tầng']).reset_index(drop=True)"
   ]
  },
  {
   "cell_type": "code",
   "execution_count": 190,
   "metadata": {},
   "outputs": [],
   "source": [
    "month_price_path = '../Data/priceData/month_price.csv'\n",
    "quarter_price_path = '../Data/priceData/quarter_price.csv'\n",
    "\n",
    "history_price = pd.DataFrame(index=cleaned_data.index)\n",
    "price_data = cleaned_data[['Lịch sử giá', 'Khoảng giá']].copy()\n",
    "\n",
    "for idx, (history, price_range_str) in price_data.iterrows():\n",
    "    entries = history.split('; ')\n",
    "    price_ranges = price_range_str.split('; ')\n",
    "    \n",
    "    for i, entry in enumerate(entries):\n",
    "        try:\n",
    "            period, price = entry.split(': ')\n",
    "            price_value = float(price.replace(' tr/m²', '').replace(',', '.'))\n",
    "            \n",
    "            min_price, max_price = price_ranges[i].split()\n",
    "            min_value = float(min_price.replace(',', '.'))\n",
    "            max_value = float(max_price.replace(',', '.'))\n",
    "\n",
    "            history_price.loc[idx, period.strip()] = f\"{min_value} {price_value} {max_value}\"\n",
    "            \n",
    "        except:\n",
    "            pass\n",
    "\n",
    "month_price = history_price[history_price['Giá Q3/24'].isna() & history_price['Giá T10/24'].notna()].drop(\n",
    "    columns=['Giá Q3/22', 'Giá Q4/22', 'Giá Q1/23', 'Giá Q2/23', 'Giá Q3/23', 'Giá Q4/23', 'Giá Q1/24', 'Giá Q2/24', 'Giá Q3/24']\n",
    ")\n",
    "\n",
    "quarter_price = history_price[history_price['Giá Q3/24'].notna()].drop(\n",
    "    columns=['Giá T10/22', 'Giá T11/22', 'Giá T12/22', 'Giá T1/23', 'Giá T2/23', 'Giá T3/23', 'Giá T4/23', 'Giá T5/23', 'Giá T6/23', 'Giá T7/23', 'Giá T8/23', 'Giá T9/23', 'Giá T10/23', 'Giá T11/23', 'Giá T12/23', 'Giá T1/24', 'Giá T2/24', 'Giá T3/24', 'Giá T4/24', 'Giá T5/24', 'Giá T6/24', 'Giá T7/24', 'Giá T8/24', 'Giá T9/24', 'Giá T10/24']\n",
    ")\n",
    "\n",
    "none_price = history_price[history_price['Giá Q3/24'].isna() & history_price['Giá T10/24'].isna()]\n",
    "\n",
    "month_indices = month_price.index\n",
    "quarter_indices = quarter_price.index\n",
    "none_indices = none_price.index\n",
    "\n",
    "cleaned_data.loc[month_indices, 'Lịch sử giá'] = 'M'\n",
    "cleaned_data.loc[quarter_indices, 'Lịch sử giá'] = 'Q'\n",
    "cleaned_data.loc[none_indices, 'Lịch sử giá'] = 'N'\n",
    "\n",
    "cleaned_data.drop(columns=['Khoảng giá'], inplace=True)\n",
    "cleaned_data.rename(columns={\"Lịch sử giá\" : \"Mã lịch sử giá\"}, inplace=True)"
   ]
  },
  {
   "cell_type": "code",
   "execution_count": 191,
   "metadata": {},
   "outputs": [],
   "source": [
    "cleaned_data.to_csv(path_data_goal, index=False)\n",
    "month_price.to_csv(month_price_path, index=True, index_label=\"index\")\n",
    "quarter_price.to_csv(quarter_price_path, index=True, index_label=\"index\")"
   ]
  }
 ],
 "metadata": {
  "kernelspec": {
   "display_name": "base",
   "language": "python",
   "name": "python3"
  },
  "language_info": {
   "codemirror_mode": {
    "name": "ipython",
    "version": 3
   },
   "file_extension": ".py",
   "mimetype": "text/x-python",
   "name": "python",
   "nbconvert_exporter": "python",
   "pygments_lexer": "ipython3",
   "version": "3.12.3"
  }
 },
 "nbformat": 4,
 "nbformat_minor": 2
}
