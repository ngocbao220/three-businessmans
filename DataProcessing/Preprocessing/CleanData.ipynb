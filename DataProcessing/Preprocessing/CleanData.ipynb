{
 "cells": [
  {
   "cell_type": "code",
   "execution_count": 141,
   "metadata": {},
   "outputs": [],
   "source": [
    "import pandas as pd\n",
    "import numpy as np"
   ]
  },
  {
   "cell_type": "markdown",
   "metadata": {},
   "source": [
    "### Địa chỉ file gốc và file đích"
   ]
  },
  {
   "cell_type": "markdown",
   "metadata": {},
   "source": [
    "#### Dự án"
   ]
  },
  {
   "cell_type": "code",
   "execution_count": 142,
   "metadata": {},
   "outputs": [],
   "source": [
    "# path_data_original = '../../Data/originalData/data_project_new.csv'\n",
    "# path_data_goal = '../../Data/cleanedData/cleaned_data_project.csv'"
   ]
  },
  {
   "cell_type": "markdown",
   "metadata": {},
   "source": [
    "#### Toàn bộ"
   ]
  },
  {
   "cell_type": "code",
   "execution_count": 143,
   "metadata": {},
   "outputs": [],
   "source": [
    "\n",
    "path_data_original = '../../Data/originalData/data_original_new.csv'\n",
    "path_data_goal = '../../Data/cleanedData/cleaned_data_new.csv'"
   ]
  },
  {
   "cell_type": "code",
   "execution_count": 144,
   "metadata": {},
   "outputs": [],
   "source": [
    "data = pd.read_csv(path_data_original)"
   ]
  },
  {
   "cell_type": "markdown",
   "metadata": {},
   "source": [
    "### Drop những căn bị thiếu thông tin\n",
    "\n"
   ]
  },
  {
   "cell_type": "code",
   "execution_count": 145,
   "metadata": {},
   "outputs": [],
   "source": [
    "data = data.drop_duplicates()\n",
    "data = data[data['Tỉnh/Thành phố'].str.contains('Hà Nội', case=False, na=False)].reset_index(drop=True)\n",
    "data = data[~data['Chủ đầu tư'].str.contains('Đang cập nhật', case=False, na=False)].reset_index(drop=True)\n",
    "data = data[~data['Tên dự án'].str.contains('Đang cập nhật', case=False, na=False)].reset_index(drop=True)\n",
    "data = data[~data['Mức giá'].str.contains(r'Thỏa thuận|nghìn', case=False, na=False)].reset_index(drop=True)\n",
    "data = data[~data['Số phòng ngủ'].str.contains('Không có thông tin', case=False, na=False)].reset_index(drop=True)\n",
    "data = data[~data['Số toilet'].str.contains('Không có thông tin', case=False, na=False)].reset_index(drop=True)\n",
    "data = data[~data['Pháp lý'].str.contains('Không có thông tin', case=False, na=False)].reset_index(drop=True)"
   ]
  },
  {
   "cell_type": "markdown",
   "metadata": {},
   "source": [
    "Sửa form và chuẩn hóa (Mức độ của Pháp lý và Nội thất)"
   ]
  },
  {
   "cell_type": "code",
   "execution_count": null,
   "metadata": {},
   "outputs": [],
   "source": [
    "import unicodedata\n",
    "\n",
    "# Hàm chuẩn hóa Unicode\n",
    "def normalize_unicode(text):\n",
    "    if pd.isna(text):\n",
    "        return text\n",
    "    return unicodedata.normalize('NFKC', text)\n",
    "\n",
    "# Áp dụng chuẩn hóa cho các cột\n",
    "data['Quận/Huyện'] = data['Quận/Huyện'].apply(normalize_unicode).str.replace(r'Quận|Huyện', '', regex=True).str.strip().str.title()\n",
    "data['Xã/Phường'] = data['Xã/Phường'].apply(normalize_unicode).str.replace(r'Xã|Phường|Thị trấn', '', regex=True).str.strip().str.title()\n"
   ]
  },
  {
   "cell_type": "code",
   "execution_count": 147,
   "metadata": {},
   "outputs": [
    {
     "data": {
      "text/plain": [
       "12141"
      ]
     },
     "execution_count": 147,
     "metadata": {},
     "output_type": "execute_result"
    }
   ],
   "source": [
    "len(data)"
   ]
  },
  {
   "cell_type": "code",
   "execution_count": 148,
   "metadata": {},
   "outputs": [
    {
     "data": {
      "text/plain": [
       "Quận/Huyện\n",
       "Mê Linh            2\n",
       "Phú Xuyên          6\n",
       "Mỹ Đức            11\n",
       "Phúc Thọ          14\n",
       "Ứng Hòa           15\n",
       "Thường Tín        23\n",
       "Sóc Sơn           24\n",
       "Thạch Thất        26\n",
       "Thanh Oai         83\n",
       "Quốc Oai          88\n",
       "Chương Mỹ        104\n",
       "Đông Anh         204\n",
       "Hoàn Kiếm        289\n",
       "Thanh Trì        362\n",
       "Bắc Từ Liêm      437\n",
       "Gia Lâm          452\n",
       "Đống Đa          560\n",
       "Ba Đình          707\n",
       "Long Biên        779\n",
       "Tây Hồ           835\n",
       "Hai Bà Trưng     880\n",
       "Hoàng Mai        883\n",
       "Cầu Giấy        1126\n",
       "Thanh Xuân      1137\n",
       "Hà Đông         1450\n",
       "Nam Từ Liêm     1644\n",
       "Name: count, dtype: int64"
      ]
     },
     "execution_count": 148,
     "metadata": {},
     "output_type": "execute_result"
    }
   ],
   "source": [
    "data['Quận/Huyện'].value_counts().sort_values()"
   ]
  },
  {
   "cell_type": "code",
   "execution_count": 149,
   "metadata": {},
   "outputs": [],
   "source": [
    "type = data['Phân loại']\n",
    "for form in ['Căn hộ chung cư', 'Chung cư mini, căn hộ dịch vụ', 'Nhà riêng', 'Nhà Biệt thự, liền kề', 'Nhà mặt phố',\n",
    "            'Shophouse, nhà phố thương mại', 'Đất nền dự án', 'Bán đất', 'Condotel', 'Trang trại, khu nghỉ dưỡng', 'Kho, nhà xưởng', 'Bất động sản khác']:\n",
    "    wrong_form = type.str.contains(form, case=False, na=False)\n",
    "    data.loc[wrong_form, 'Phân loại'] = form\n"
   ]
  },
  {
   "cell_type": "code",
   "execution_count": 150,
   "metadata": {},
   "outputs": [],
   "source": [
    "area = data['Diện tích']\n",
    "area = area.str.replace(' m²', '').str.replace('.', '').str.replace(',', '.').astype(np.float32)"
   ]
  },
  {
   "cell_type": "code",
   "execution_count": 151,
   "metadata": {},
   "outputs": [],
   "source": [
    "price = data['Mức giá']\n",
    "\n",
    "wrong_form = price.str.contains('/m²', case=False, na=False)\n",
    "cleaned_wrong_form = data.loc[wrong_form, 'Mức giá'].str.replace('/m²', '').str.replace(',', '.')\n",
    "data.loc[wrong_form, 'Mức giá'] = cleaned_wrong_form\n",
    "\n",
    "price_area = price.str.contains('tỷ', case=False, na=False)\n",
    "cleaned_price_area = data.loc[price_area, 'Mức giá'].str.replace(' tỷ', '').str.replace(',', '.').astype(np.float32)*1000\n",
    "price_per_square = (cleaned_price_area / area[price_area])\n",
    "data.loc[price_area, 'Mức giá'] = price_per_square\n",
    "\n",
    "wrong_form = price.str.contains(' triệu', case=False, na=False)\n",
    "cleaned_wrong_form = data.loc[wrong_form, 'Mức giá'].str.replace(' triệu', '').str.replace(',', '.').astype(np.float32)\n",
    "data.loc[wrong_form, 'Mức giá'] = cleaned_wrong_form"
   ]
  },
  {
   "cell_type": "code",
   "execution_count": 152,
   "metadata": {},
   "outputs": [],
   "source": [
    "bed_room = data['Số phòng ngủ']\n",
    "bed_room = bed_room.str.replace(' phòng', '').astype(np.float32)\n",
    "toilet_room = data['Số toilet']\n",
    "toilet_room = toilet_room.str.replace(' phòng', '').astype(np.float32)"
   ]
  },
  {
   "cell_type": "code",
   "execution_count": 153,
   "metadata": {},
   "outputs": [],
   "source": [
    "legal = data['Pháp lý']\n",
    "\n",
    "wrong_form = legal.str.contains('.', case=False, na=False)\n",
    "data.loc[wrong_form, 'Pháp lý'] = data.loc[wrong_form, 'Pháp lý'].str.replace('.', '')\n",
    "\n",
    "wrong_form = legal.str.contains(r'hợp đồng|HĐMB|HDMB|mua bán', case=False, na=False)\n",
    "data.loc[wrong_form, 'Pháp lý'] = 3 # \"Hợp đồng mua bán\"\n",
    "\n",
    "wrong_form = legal.str.contains('ủy quyền', case=False, na=False)\n",
    "data.loc[wrong_form, 'Pháp lý'] = 2 # \"ủy quyền\"\n",
    "\n",
    "wrong_form = legal.str.contains(r'đang chờ sổ|vi bằng|LH', case=False, na=False)\n",
    "data.loc[wrong_form, 'Pháp lý'] = 1 #\"Chưa có\"\n",
    "\n",
    "wrong_form = legal.str.contains(r'sổ|so|Sổ đỏ/ Sổ hồng|đầy đủ|Đủ|hợp lệ|Số đỏ|sạch|sang tên|phân lô|xã|quân đội|Pháp lý|Sở hữu lâu dài', case=False, na=False)\n",
    "data.loc[wrong_form, 'Pháp lý'] = 4 #'Đầy đủ'"
   ]
  },
  {
   "cell_type": "code",
   "execution_count": 154,
   "metadata": {},
   "outputs": [
    {
     "data": {
      "text/plain": [
       "0        4\n",
       "7        3\n",
       "245      1\n",
       "12020    2\n",
       "Name: Pháp lý, dtype: object"
      ]
     },
     "execution_count": 154,
     "metadata": {},
     "output_type": "execute_result"
    }
   ],
   "source": [
    "data['Pháp lý'].drop_duplicates()"
   ]
  },
  {
   "cell_type": "code",
   "execution_count": 155,
   "metadata": {},
   "outputs": [],
   "source": [
    "furniture = data['Nội thất']\n",
    "wrong_form = furniture.str.contains('.', case=False, na=False)\n",
    "data.loc[wrong_form, 'Nội thất'] = data.loc[wrong_form, 'Nội thất'].str.replace('.', '')\n",
    "\n",
    "wrong_form = furniture.str.contains(r'Cao cấp|5|đẳng cấp|SIÊU VÍP|Co cấp|tiền tỉ|VIP|cáo cấp|đẹp|ngoại|semi|hiện đại|sang|nhập khẩu|xịn|châu âu|tâm huyết|hien dai', case=False, na=False)\n",
    "data.loc[wrong_form, 'Nội thất'] = 4 #'Cao cấp'\n",
    "\n",
    "wrong_form = furniture.str.contains(r'cơ bản|- Bàn giao NB CĐT|tặng|ổn|NTCB|nguyên bản|nhà mới|điều|mới|thang máy|kèm nội thất|41518075|hầm chìm', case=False, na=False)\n",
    "data.loc[wrong_form, 'Nội thất'] = 2 #'Cơ bản'\n",
    "\n",
    "wrong_form = furniture.str.contains(r'Đầy đủ|Nội thất:|như ảnh|chủ đầu tư|từng phòng|sẵn|Phun|full|toàn bộ|gắn tường|liên tường|liền tường|đủ|cẩn thận|hoàn thiện nội thất', case=False, na=False)\n",
    "data.loc[wrong_form, 'Nội thất'] = 3 #'Đầy đủ'\n",
    "\n",
    "wrong_form = furniture.str.contains(r'Xây thô|Thô|Không nội thất', case=False, na=False)\n",
    "data.loc[wrong_form, 'Nội thất'] = 1 #'Không nội thất' \n"
   ]
  },
  {
   "cell_type": "code",
   "execution_count": 156,
   "metadata": {},
   "outputs": [
    {
     "data": {
      "text/plain": [
       "0     3\n",
       "1     1\n",
       "2     2\n",
       "58    4\n",
       "Name: Nội thất, dtype: object"
      ]
     },
     "execution_count": 156,
     "metadata": {},
     "output_type": "execute_result"
    }
   ],
   "source": [
    "data['Nội thất'].drop_duplicates()"
   ]
  },
  {
   "cell_type": "code",
   "execution_count": 157,
   "metadata": {},
   "outputs": [],
   "source": [
    "project_name = data['Tên dự án']\n",
    "wrong_form = project_name.str.contains('Không có thông tin', case=False, na=False)\n",
    "data.loc[wrong_form, 'Tên dự án'] = \"Không phải dự án\"\n",
    "\n",
    "investment = data['Chủ đầu tư']\n",
    "wrong_form = investment.str.contains('Không có thông tin', case=False, na=False)\n",
    "data.loc[wrong_form, 'Chủ đầu tư'] = 'Không có chủ đầu tư'\n"
   ]
  },
  {
   "cell_type": "code",
   "execution_count": 158,
   "metadata": {},
   "outputs": [],
   "source": [
    "front = data['Mặt tiền']\n",
    "wrong_form = front.str.contains(' m', case=False, na=False)\n",
    "cleaned_wrong_form = data.loc[wrong_form, 'Mặt tiền'].str.replace(' m', '').str.replace(',', '.').astype(np.float32)\n",
    "data.loc[wrong_form, 'Mặt tiền'] = cleaned_wrong_form"
   ]
  },
  {
   "cell_type": "markdown",
   "metadata": {},
   "source": [
    "### Chuẩn bị dữ liệu ghi vào file đích"
   ]
  },
  {
   "cell_type": "code",
   "execution_count": 159,
   "metadata": {},
   "outputs": [],
   "source": [
    "import re\n",
    "def extract_info(column):\n",
    "    extracted_data = []\n",
    "    for item in column:\n",
    "        if isinstance(item, str):\n",
    "            # Trích xuất đường vào\n",
    "            road_width = re.search(r'Đường vào:\\s*([\\d.,]+)\\s*m', item)\n",
    "            road_width_value = float(road_width.group(1).replace(',', '.')) if road_width else None\n",
    "\n",
    "            # Trích xuất số tầng\n",
    "            floors = re.search(r'Số tầng:\\s*(\\d+)', item)\n",
    "            floors_value = int(floors.group(1)) if floors else None\n",
    "\n",
    "             # Trích xuất số tòa\n",
    "            buildings = re.search(r'Số tòa:\\s*([\\d.,]+)', item)\n",
    "            buildings_value = int(buildings.group(1).replace('.', '')) if buildings else None\n",
    "\n",
    "            # Trích xuất số căn hộ\n",
    "            houses = re.search(r'Số căn hộ:\\s*([\\d.,]+)', item)\n",
    "            houses_value = int(houses.group(1).replace('.', '')) if houses else None\n",
    "            # Thêm vào danh sách\n",
    "            extracted_data.append({'Đường vào': road_width_value, 'Số tầng': floors_value, 'Số tòa': buildings_value, 'Số căn hộ': houses_value})\n",
    "        else:\n",
    "            extracted_data.append({'Đường vào': None, 'Số tầng': None, 'Số tòa': None, 'Số căn hộ': None})\n",
    "    return extracted_data\n",
    "\n",
    "# Trích xuất thông tin từ \"Thông tin khác\"\n",
    "info = extract_info(data['Thông tin khác'])\n",
    "\n",
    "# Tạo DataFrame từ kết quả trích xuất\n",
    "info_df = pd.DataFrame(info)\n"
   ]
  },
  {
   "cell_type": "code",
   "execution_count": 160,
   "metadata": {},
   "outputs": [],
   "source": [
    "# Kết hợp tất cả dữ liệu\n",
    "cleaned_data = pd.DataFrame({\n",
    "    'Xã/Phường': data['Xã/Phường'],\n",
    "    'Quận/Huyện': data['Quận/Huyện'],\n",
    "    'Chủ đầu tư': data['Chủ đầu tư'],\n",
    "    'Tên dự án': data['Tên dự án'],\n",
    "    'Loại hình': data['Phân loại'],\n",
    "    'Diện tích': area,\n",
    "    'Mức giá': price,\n",
    "    'Số phòng ngủ': bed_room,\n",
    "    'Số toilet': toilet_room,\n",
    "    'Pháp lý': legal,\n",
    "    'Nội thất': furniture,\n",
    "    'Mặt tiền': data['Mặt tiền'],\n",
    "    'Đường vào': info_df['Đường vào'],\n",
    "    'Số tầng': info_df['Số tầng'],\n",
    "    'Số tòa': info_df['Số tòa'],\n",
    "    'Số căn hộ': info_df['Số căn hộ'],\n",
    "    'Hướng nhà': data['Hướng nhà'],\n",
    "    'Hướng ban công': data['Hướng ban công'],\n",
    "    'Lịch sử giá': data['Lịch sử giá'],\n",
    "    'Khoảng giá': data['Khoảng giá']\n",
    "})"
   ]
  },
  {
   "cell_type": "code",
   "execution_count": 161,
   "metadata": {},
   "outputs": [
    {
     "data": {
      "text/plain": [
       "np.False_"
      ]
     },
     "execution_count": 161,
     "metadata": {},
     "output_type": "execute_result"
    }
   ],
   "source": [
    "cleaned_data['Xã/Phường'].str.contains(r'Xã/Phường/Thị Trấn', na=False).any()\n"
   ]
  },
  {
   "cell_type": "code",
   "execution_count": 162,
   "metadata": {},
   "outputs": [
    {
     "data": {
      "text/plain": [
       "np.False_"
      ]
     },
     "execution_count": 162,
     "metadata": {},
     "output_type": "execute_result"
    }
   ],
   "source": [
    "cleaned_data['Quận/Huyện'].str.contains(r'Quận|Huyện', na=False).any()"
   ]
  },
  {
   "cell_type": "markdown",
   "metadata": {},
   "source": [
    "### Mã hóa dữ liệu giá"
   ]
  },
  {
   "cell_type": "code",
   "execution_count": 163,
   "metadata": {},
   "outputs": [],
   "source": [
    "month_price_path = '../../Data/priceData/month_price.csv'\n",
    "quarter_price_path = '../../Data/priceData/quarter_price.csv'\n",
    "\n",
    "history_price = pd.DataFrame(index=cleaned_data.index)\n",
    "price_data = cleaned_data[['Lịch sử giá', 'Khoảng giá']].copy()\n",
    "\n",
    "for idx, (history, price_range_str) in price_data.iterrows():\n",
    "    entries = history.split('; ')\n",
    "    price_ranges = price_range_str.split('; ')\n",
    "    \n",
    "    for i, entry in enumerate(entries):\n",
    "        try:\n",
    "            period, price = entry.split(': ')\n",
    "            price_value = float(price.replace(' tr/m²', '').replace(',', '.'))\n",
    "            \n",
    "            min_price, max_price = price_ranges[i].split()\n",
    "            min_value = float(min_price.replace(',', '.'))\n",
    "            max_value = float(max_price.replace(',', '.'))\n",
    "\n",
    "            history_price.loc[idx, period.strip()] = f\"{min_value} {price_value} {max_value}\"\n",
    "            \n",
    "        except:\n",
    "            pass\n",
    "\n",
    "month_price = history_price[history_price['Giá Q3/24'].isna() & history_price['Giá T10/24'].notna()].drop(\n",
    "    columns=['Giá Q3/22', 'Giá Q4/22', 'Giá Q1/23', 'Giá Q2/23', 'Giá Q3/23', 'Giá Q4/23', 'Giá Q1/24', 'Giá Q2/24', 'Giá Q3/24']\n",
    ")\n",
    "\n",
    "quarter_price = history_price[history_price['Giá Q3/24'].notna()].drop(\n",
    "    columns=['Giá T10/22', 'Giá T11/22', 'Giá T12/22', 'Giá T1/23', 'Giá T2/23', 'Giá T3/23', 'Giá T4/23', 'Giá T5/23', 'Giá T6/23', 'Giá T7/23', 'Giá T8/23', 'Giá T9/23', 'Giá T10/23', 'Giá T11/23', 'Giá T12/23', 'Giá T1/24', 'Giá T2/24', 'Giá T3/24', 'Giá T4/24', 'Giá T5/24', 'Giá T6/24', 'Giá T7/24', 'Giá T8/24', 'Giá T9/24', 'Giá T10/24']\n",
    ")\n",
    "\n",
    "none_price = history_price[history_price['Giá Q3/24'].isna() & history_price['Giá T10/24'].isna()]\n",
    "\n",
    "month_indices = month_price.index\n",
    "quarter_indices = quarter_price.index\n",
    "none_indices = none_price.index\n",
    "\n",
    "cleaned_data.loc[month_indices, 'Lịch sử giá'] = 'M'\n",
    "cleaned_data.loc[quarter_indices, 'Lịch sử giá'] = 'Q'\n",
    "cleaned_data.loc[none_indices, 'Lịch sử giá'] = 'N'\n",
    "\n",
    "cleaned_data.drop(columns=['Khoảng giá'], inplace=True)\n",
    "cleaned_data.rename(columns={\"Lịch sử giá\" : \"Mã lịch sử giá\"}, inplace=True)"
   ]
  },
  {
   "cell_type": "markdown",
   "metadata": {},
   "source": [
    "### Ghi vào các file đích"
   ]
  },
  {
   "cell_type": "code",
   "execution_count": 164,
   "metadata": {},
   "outputs": [],
   "source": [
    "cleaned_data.to_csv(path_data_goal, index=False)\n",
    "month_price.to_csv(month_price_path, index=True, index_label=\"index\")\n",
    "quarter_price.to_csv(quarter_price_path, index=True, index_label=\"index\")"
   ]
  },
  {
   "cell_type": "markdown",
   "metadata": {},
   "source": [
    "### Mô tả dữ liệu"
   ]
  },
  {
   "cell_type": "code",
   "execution_count": 165,
   "metadata": {},
   "outputs": [],
   "source": [
    "pd.set_option('display.max_rows', None)      # Hiển thị tất cả các hàng\n",
    "pd.set_option('display.max_columns', None)   # Hiển thị tất cả các cột\n",
    "pd.set_option('display.max_colwidth', None)  # Không giới hạn độ rộng của cột"
   ]
  },
  {
   "cell_type": "code",
   "execution_count": 166,
   "metadata": {},
   "outputs": [
    {
     "name": "stdout",
     "output_type": "stream",
     "text": [
      "<class 'pandas.core.frame.DataFrame'>\n",
      "RangeIndex: 12141 entries, 0 to 12140\n",
      "Data columns (total 19 columns):\n",
      " #   Column          Non-Null Count  Dtype  \n",
      "---  ------          --------------  -----  \n",
      " 0   Xã/Phường       12141 non-null  object \n",
      " 1   Quận/Huyện      12141 non-null  object \n",
      " 2   Chủ đầu tư      12141 non-null  object \n",
      " 3   Tên dự án       12141 non-null  object \n",
      " 4   Loại hình       12141 non-null  object \n",
      " 5   Diện tích       12141 non-null  float32\n",
      " 6   Mức giá         12141 non-null  object \n",
      " 7   Số phòng ngủ    12141 non-null  float32\n",
      " 8   Số toilet       12141 non-null  float32\n",
      " 9   Pháp lý         12141 non-null  object \n",
      " 10  Nội thất        12141 non-null  object \n",
      " 11  Mặt tiền        12141 non-null  object \n",
      " 12  Đường vào       5220 non-null   float64\n",
      " 13  Số tầng         7631 non-null   float64\n",
      " 14  Số tòa          2383 non-null   float64\n",
      " 15  Số căn hộ       1718 non-null   float64\n",
      " 16  Hướng nhà       12141 non-null  object \n",
      " 17  Hướng ban công  12141 non-null  object \n",
      " 18  Mã lịch sử giá  12141 non-null  object \n",
      "dtypes: float32(3), float64(4), object(12)\n",
      "memory usage: 1.6+ MB\n",
      "None\n"
     ]
    }
   ],
   "source": [
    "print(cleaned_data.info())"
   ]
  },
  {
   "cell_type": "code",
   "execution_count": 167,
   "metadata": {},
   "outputs": [
    {
     "name": "stdout",
     "output_type": "stream",
     "text": [
      "            Diện tích  Số phòng ngủ     Số toilet    Đường vào      Số tầng  \\\n",
      "count    12141.000000  12141.000000  12141.000000  5220.000000  7631.000000   \n",
      "mean       183.605103      4.711144      4.440656    11.313008     4.815883   \n",
      "std       9082.589844      7.484801      7.202476    12.046736     1.766453   \n",
      "min         10.000000      1.000000      1.000000     0.500000     1.000000   \n",
      "25%         46.000000      3.000000      2.000000     3.500000     4.000000   \n",
      "50%         70.000000      3.000000      3.000000     7.000000     5.000000   \n",
      "75%        102.000000      5.000000      5.000000    15.000000     5.000000   \n",
      "max    1000000.000000    255.000000    255.000000   265.000000    30.000000   \n",
      "\n",
      "            Số tòa     Số căn hộ  \n",
      "count  2383.000000   1718.000000  \n",
      "mean     13.113303   2012.398137  \n",
      "std      19.281004   2048.955498  \n",
      "min       1.000000    104.000000  \n",
      "25%       3.000000    804.000000  \n",
      "50%       4.000000   1478.000000  \n",
      "75%      12.000000   2401.000000  \n",
      "max      66.000000  12000.000000  \n"
     ]
    }
   ],
   "source": [
    "print(cleaned_data.describe(include=[float, int]))"
   ]
  },
  {
   "cell_type": "code",
   "execution_count": 168,
   "metadata": {},
   "outputs": [
    {
     "name": "stdout",
     "output_type": "stream",
     "text": [
      "       Xã/Phường   Quận/Huyện           Chủ đầu tư         Tên dự án  \\\n",
      "count      12141        12141                12141             12141   \n",
      "unique       317           26                  235               475   \n",
      "top       Tây Mỗ  Nam Từ Liêm  Không có chủ đầu tư  Không phải dự án   \n",
      "freq         358         1644                 7308              7308   \n",
      "\n",
      "        Loại hình  Mức giá  Pháp lý  Nội thất            Mặt tiền  \\\n",
      "count       12141  12141.0    12141     12141               12141   \n",
      "unique         11   6103.0        4         4                 293   \n",
      "top     Nhà riêng    200.0        4         3  Không có thông tin   \n",
      "freq         4751     84.0    11354      6663                6103   \n",
      "\n",
      "                 Hướng nhà      Hướng ban công Mã lịch sử giá  \n",
      "count                12141               12141          12141  \n",
      "unique                   9                   9              3  \n",
      "top     Không có thông tin  Không có thông tin              M  \n",
      "freq                  7767                8098           8475  \n"
     ]
    }
   ],
   "source": [
    "print(cleaned_data.describe(include=[object]))"
   ]
  }
 ],
 "metadata": {
  "kernelspec": {
   "display_name": "3B",
   "language": "python",
   "name": "python3"
  },
  "language_info": {
   "codemirror_mode": {
    "name": "ipython",
    "version": 3
   },
   "file_extension": ".py",
   "mimetype": "text/x-python",
   "name": "python",
   "nbconvert_exporter": "python",
   "pygments_lexer": "ipython3",
   "version": "3.12.7"
  }
 },
 "nbformat": 4,
 "nbformat_minor": 2
}
