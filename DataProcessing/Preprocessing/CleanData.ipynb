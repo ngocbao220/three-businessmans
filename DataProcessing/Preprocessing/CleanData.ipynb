{
 "cells": [
  {
   "cell_type": "code",
   "execution_count": 2,
   "metadata": {},
   "outputs": [],
   "source": [
    "import pandas as pd\n",
    "import numpy as np"
   ]
  },
  {
   "cell_type": "markdown",
   "metadata": {},
   "source": [
    "### Địa chỉ file gốc và file đích"
   ]
  },
  {
   "cell_type": "markdown",
   "metadata": {},
   "source": [
    "#### Dự án"
   ]
  },
  {
   "cell_type": "code",
   "execution_count": 3,
   "metadata": {},
   "outputs": [],
   "source": [
    "# path_data_original = '../../Data/originalData/data_project_new.csv'\n",
    "# path_data_goal = '../../Data/cleanedData/cleaned_data_project.csv'"
   ]
  },
  {
   "cell_type": "markdown",
   "metadata": {},
   "source": [
    "#### Toàn bộ"
   ]
  },
  {
   "cell_type": "code",
   "execution_count": 4,
   "metadata": {},
   "outputs": [],
   "source": [
    "\n",
    "path_data_original = '../../Data/originalData/data_original_new.csv'\n",
    "path_data_goal = '../../Data/cleanedData/cleaned_data_new.csv'"
   ]
  },
  {
   "cell_type": "code",
   "execution_count": 5,
   "metadata": {},
   "outputs": [],
   "source": [
    "data = pd.read_csv(path_data_original)"
   ]
  },
  {
   "cell_type": "markdown",
   "metadata": {},
   "source": [
    "### Drop những căn bị thiếu thông tin\n",
    "\n"
   ]
  },
  {
   "cell_type": "code",
   "execution_count": 6,
   "metadata": {},
   "outputs": [],
   "source": [
    "data = data.drop_duplicates()\n",
    "data = data[data['Tỉnh/Thành phố'].str.contains('Hà Nội', case=False, na=False)].reset_index(drop=True)\n",
    "data = data[~data['Chủ đầu tư'].str.contains('Đang cập nhật', case=False, na=False)].reset_index(drop=True)\n",
    "data = data[~data['Tên dự án'].str.contains('Đang cập nhật', case=False, na=False)].reset_index(drop=True)\n",
    "data = data[~data['Mức giá'].str.contains(r'Thỏa thuận|nghìn', case=False, na=False)].reset_index(drop=True)\n",
    "data = data[~data['Số phòng ngủ'].str.contains('Không có thông tin', case=False, na=False)].reset_index(drop=True)\n",
    "data = data[~data['Số toilet'].str.contains('Không có thông tin', case=False, na=False)].reset_index(drop=True)\n",
    "data = data[~data['Pháp lý'].str.contains('Không có thông tin', case=False, na=False)].reset_index(drop=True)"
   ]
  },
  {
   "cell_type": "markdown",
   "metadata": {},
   "source": [
    "Sửa form và chuẩn hóa (Mức độ của Pháp lý và Nội thất)"
   ]
  },
  {
   "cell_type": "code",
   "execution_count": 7,
   "metadata": {},
   "outputs": [],
   "source": [
    "import unicodedata\n",
    "\n",
    "# Hàm chuẩn hóa Unicode\n",
    "def normalize_unicode(text):\n",
    "    if pd.isna(text):  # Kiểm tra giá trị null\n",
    "        return text\n",
    "    return unicodedata.normalize('NFKC', text)\n",
    "\n",
    "# Áp dụng chuẩn hóa cho các cột\n",
    "data['Quận/Huyện'] = data['Quận/Huyện'].apply(normalize_unicode).str.replace(r'Quận|Huyện', '', regex=True).str.strip().str.title()\n",
    "data['Xã/Phường'] = data['Xã/Phường'].apply(normalize_unicode).str.replace(r'Xã|Phường|Thị trấn', '', regex=True).str.strip().str.title()\n"
   ]
  },
  {
   "cell_type": "code",
   "execution_count": 8,
   "metadata": {},
   "outputs": [
    {
     "data": {
      "text/plain": [
       "11240"
      ]
     },
     "execution_count": 8,
     "metadata": {},
     "output_type": "execute_result"
    }
   ],
   "source": [
    "len(data)"
   ]
  },
  {
   "cell_type": "code",
   "execution_count": 9,
   "metadata": {},
   "outputs": [
    {
     "data": {
      "text/plain": [
       "Quận/Huyện\n",
       "Phú Xuyên          5\n",
       "Mê Linh            5\n",
       "Mỹ Đức            11\n",
       "Ứng Hòa           15\n",
       "Phúc Thọ          16\n",
       "Sơn Tây           18\n",
       "Ba Vì             18\n",
       "Thường Tín        23\n",
       "Thạch Thất        26\n",
       "Đan Phượng        44\n",
       "Thanh Oai         83\n",
       "Sóc Sơn           84\n",
       "Nam Từ Liêm      116\n",
       "Đông Anh         127\n",
       "Hoài Đức         152\n",
       "Chương Mỹ        157\n",
       "Quốc Oai         158\n",
       "Hoàn Kiếm        290\n",
       "Thanh Trì        362\n",
       "Gia Lâm          481\n",
       "Đống Đa          560\n",
       "Bắc Từ Liêm      694\n",
       "Ba Đình          707\n",
       "Long Biên        779\n",
       "Tây Hồ           835\n",
       "Hai Bà Trưng     880\n",
       "Hoàng Mai        883\n",
       "Cầu Giấy        1126\n",
       "Thanh Xuân      1137\n",
       "Hà Đông         1448\n",
       "Name: count, dtype: int64"
      ]
     },
     "execution_count": 9,
     "metadata": {},
     "output_type": "execute_result"
    }
   ],
   "source": [
    "data['Quận/Huyện'].value_counts().sort_values()"
   ]
  },
  {
   "cell_type": "code",
   "execution_count": 10,
   "metadata": {},
   "outputs": [],
   "source": [
    "type = data['Phân loại']\n",
    "for form in ['Căn hộ chung cư', 'Chung cư mini, căn hộ dịch vụ', 'Nhà riêng', 'Nhà Biệt thự, liền kề', 'Nhà mặt phố',\n",
    "            'Shophouse, nhà phố thương mại', 'Đất nền dự án', 'Bán đất', 'Condotel', 'Trang trại, khu nghỉ dưỡng', 'Kho, nhà xưởng', 'Bất động sản khác']:\n",
    "    wrong_form = type.str.contains(form, case=False, na=False)\n",
    "    data.loc[wrong_form, 'Phân loại'] = form\n"
   ]
  },
  {
   "cell_type": "code",
   "execution_count": 11,
   "metadata": {},
   "outputs": [],
   "source": [
    "area = data['Diện tích']\n",
    "area = area.str.replace(' m²', '').str.replace('.', '').str.replace(',', '.').astype(np.float32)"
   ]
  },
  {
   "cell_type": "code",
   "execution_count": 12,
   "metadata": {},
   "outputs": [],
   "source": [
    "price = data['Mức giá']\n",
    "\n",
    "wrong_form = price.str.contains('/m²', case=False, na=False)\n",
    "cleaned_wrong_form = data.loc[wrong_form, 'Mức giá'].str.replace('/m²', '').str.replace(',', '.')\n",
    "data.loc[wrong_form, 'Mức giá'] = cleaned_wrong_form\n",
    "\n",
    "price_area = price.str.contains('tỷ', case=False, na=False)\n",
    "cleaned_price_area = data.loc[price_area, 'Mức giá'].str.replace(' tỷ', '').str.replace(',', '.').astype(np.float32)*1000\n",
    "price_per_square = (cleaned_price_area / area[price_area])\n",
    "data.loc[price_area, 'Mức giá'] = price_per_square\n",
    "\n",
    "wrong_form = price.str.contains(' triệu', case=False, na=False)\n",
    "cleaned_wrong_form = data.loc[wrong_form, 'Mức giá'].str.replace(' triệu', '').str.replace(',', '.').astype(np.float32)\n",
    "data.loc[wrong_form, 'Mức giá'] = cleaned_wrong_form"
   ]
  },
  {
   "cell_type": "code",
   "execution_count": 13,
   "metadata": {},
   "outputs": [],
   "source": [
    "bed_room = data['Số phòng ngủ']\n",
    "bed_room = bed_room.str.replace(' phòng', '').astype(np.float32)\n",
    "toilet_room = data['Số toilet']\n",
    "toilet_room = toilet_room.str.replace(' phòng', '').astype(np.float32)"
   ]
  },
  {
   "cell_type": "code",
   "execution_count": 14,
   "metadata": {},
   "outputs": [],
   "source": [
    "legal = data['Pháp lý']\n",
    "\n",
    "wrong_form = legal.str.contains('.', case=False, na=False)\n",
    "data.loc[wrong_form, 'Pháp lý'] = data.loc[wrong_form, 'Pháp lý'].str.replace('.', '')\n",
    "\n",
    "wrong_form = legal.str.contains(r'hợp đồng|HĐMB|HDMB|mua bán', case=False, na=False)\n",
    "data.loc[wrong_form, 'Pháp lý'] = 3 # \"Hợp đồng mua bán\"\n",
    "\n",
    "wrong_form = legal.str.contains('ủy quyền', case=False, na=False)\n",
    "data.loc[wrong_form, 'Pháp lý'] = 2 # \"ủy quyền\"\n",
    "\n",
    "wrong_form = legal.str.contains(r'đang chờ sổ|vi bằng', case=False, na=False)\n",
    "data.loc[wrong_form, 'Pháp lý'] = 1 #\"Chưa có\"\n",
    "\n",
    "wrong_form = legal.str.contains(r'sổ|so|Sổ đỏ/ Sổ hồng|đầy đủ|Đủ|hợp lệ|Số đỏ|sạch|sang tên|phân lô|xã|quân đội|Pháp lý', case=False, na=False)\n",
    "data.loc[wrong_form, 'Pháp lý'] = 4 #'Đầy đủ'"
   ]
  },
  {
   "cell_type": "code",
   "execution_count": 15,
   "metadata": {},
   "outputs": [
    {
     "data": {
      "text/plain": [
       "0       4\n",
       "7       3\n",
       "247     1\n",
       "9434    2\n",
       "Name: Pháp lý, dtype: object"
      ]
     },
     "execution_count": 15,
     "metadata": {},
     "output_type": "execute_result"
    }
   ],
   "source": [
    "data['Pháp lý'].drop_duplicates()"
   ]
  },
  {
   "cell_type": "code",
   "execution_count": 16,
   "metadata": {},
   "outputs": [],
   "source": [
    "furniture = data['Nội thất']\n",
    "wrong_form = furniture.str.contains('.', case=False, na=False)\n",
    "data.loc[wrong_form, 'Nội thất'] = data.loc[wrong_form, 'Nội thất'].str.replace('.', '')\n",
    "\n",
    "wrong_form = furniture.str.contains(r'Cao cấp|5|đẳng cấp|SIÊU VÍP|Co cấp|tiền tỉ|VIP|cáo cấp|đẹp|ngoại|semi|hiện đại|sang|nhập khẩu|xịn|châu âu|tâm huyết|hien dai', case=False, na=False)\n",
    "data.loc[wrong_form, 'Nội thất'] = 4 #'Cao cấp'\n",
    "\n",
    "wrong_form = furniture.str.contains(r'cơ bản|tặng|ổn|NTCB|nguyên bản|nhà mới|điều|mới|thang máy|kèm nội thất|41518075|hầm chìm', case=False, na=False)\n",
    "data.loc[wrong_form, 'Nội thất'] = 2 #'Cơ bản'\n",
    "\n",
    "wrong_form = furniture.str.contains(r'Đầy đủ|Nội thất:|như ảnh|chủ đầu tư|từng phòng|sẵn|Phun|full|toàn bộ|gắn tường|liên tường|liền tường|đủ|cẩn thận|hoàn thiện nội thất', case=False, na=False)\n",
    "data.loc[wrong_form, 'Nội thất'] = 3 #'Đầy đủ'\n",
    "\n",
    "wrong_form = furniture.str.contains(r'Xây thô|Thô|Không nội thất', case=False, na=False)\n",
    "data.loc[wrong_form, 'Nội thất'] = 1 #'Không nội thất' \n"
   ]
  },
  {
   "cell_type": "code",
   "execution_count": 17,
   "metadata": {},
   "outputs": [
    {
     "data": {
      "text/plain": [
       "0     3\n",
       "1     1\n",
       "2     2\n",
       "58    4\n",
       "Name: Nội thất, dtype: object"
      ]
     },
     "execution_count": 17,
     "metadata": {},
     "output_type": "execute_result"
    }
   ],
   "source": [
    "data['Nội thất'].drop_duplicates()"
   ]
  },
  {
   "cell_type": "code",
   "execution_count": 18,
   "metadata": {},
   "outputs": [],
   "source": [
    "project_name = data['Tên dự án']\n",
    "wrong_form = project_name.str.contains('Không có thông tin', case=False, na=False)\n",
    "data.loc[wrong_form, 'Tên dự án'] = \"Không phải dự án\"\n",
    "\n",
    "investment = data['Chủ đầu tư']\n",
    "wrong_form = investment.str.contains('Không có thông tin', case=False, na=False)\n",
    "data.loc[wrong_form, 'Chủ đầu tư'] = 'Không có chủ đầu tư'\n"
   ]
  },
  {
   "cell_type": "code",
   "execution_count": 19,
   "metadata": {},
   "outputs": [],
   "source": [
    "front = data['Mặt tiền']\n",
    "wrong_form = front.str.contains(' m', case=False, na=False)\n",
    "cleaned_wrong_form = data.loc[wrong_form, 'Mặt tiền'].str.replace(' m', '').str.replace(',', '.').astype(np.float32)\n",
    "data.loc[wrong_form, 'Mặt tiền'] = cleaned_wrong_form"
   ]
  },
  {
   "cell_type": "markdown",
   "metadata": {},
   "source": [
    "### Chuẩn bị dữ liệu ghi vào file đích"
   ]
  },
  {
   "cell_type": "code",
   "execution_count": 20,
   "metadata": {},
   "outputs": [],
   "source": [
    "import re\n",
    "def extract_info(column):\n",
    "    extracted_data = []\n",
    "    for item in column:\n",
    "        if isinstance(item, str):\n",
    "            # Trích xuất đường vào\n",
    "            road_width = re.search(r'Đường vào:\\s*([\\d.,]+)\\s*m', item)\n",
    "            road_width_value = float(road_width.group(1).replace(',', '.')) if road_width else None\n",
    "\n",
    "            # Trích xuất số tầng\n",
    "            floors = re.search(r'Số tầng:\\s*(\\d+)', item)\n",
    "            floors_value = int(floors.group(1)) if floors else None\n",
    "\n",
    "             # Trích xuất số tòa\n",
    "            buildings = re.search(r'Số tòa:\\s*([\\d.,]+)', item)\n",
    "            buildings_value = int(buildings.group(1).replace('.', '')) if buildings else None\n",
    "\n",
    "            # Trích xuất số căn hộ\n",
    "            houses = re.search(r'Số căn hộ:\\s*([\\d.,]+)', item)\n",
    "            houses_value = int(houses.group(1).replace('.', '')) if houses else None\n",
    "            # Thêm vào danh sách\n",
    "            extracted_data.append({'Đường vào': road_width_value, 'Số tầng': floors_value, 'Số tòa': buildings_value, 'Số căn hộ': houses_value})\n",
    "        else:\n",
    "            extracted_data.append({'Đường vào': None, 'Số tầng': None, 'Số tòa': None, 'Số căn hộ': None})\n",
    "    return extracted_data\n",
    "\n",
    "# Trích xuất thông tin từ \"Thông tin khác\"\n",
    "info = extract_info(data['Thông tin khác'])\n",
    "\n",
    "# Tạo DataFrame từ kết quả trích xuất\n",
    "info_df = pd.DataFrame(info)\n"
   ]
  },
  {
   "cell_type": "code",
   "execution_count": 21,
   "metadata": {},
   "outputs": [],
   "source": [
    "# Kết hợp tất cả dữ liệu\n",
    "cleaned_data = pd.DataFrame({\n",
    "    'Xã/Phường': data['Xã/Phường'],\n",
    "    'Quận/Huyện': data['Quận/Huyện'],\n",
    "    'Chủ đầu tư': data['Chủ đầu tư'],\n",
    "    'Tên dự án': data['Tên dự án'],\n",
    "    'Loại hình': data['Phân loại'],\n",
    "    'Diện tích': area,\n",
    "    'Mức giá': price,\n",
    "    'Số phòng ngủ': bed_room,\n",
    "    'Số toilet': toilet_room,\n",
    "    'Pháp lý': legal,\n",
    "    'Nội thất': furniture,\n",
    "    'Mặt tiền': data['Mặt tiền'],\n",
    "    'Đường vào': info_df['Đường vào'],\n",
    "    'Số tầng': info_df['Số tầng'],\n",
    "    'Số tòa': info_df['Số tòa'],\n",
    "    'Số căn hộ': info_df['Số căn hộ'],\n",
    "    'Hướng nhà': data['Hướng nhà'],\n",
    "    'Hướng ban công': data['Hướng ban công'],\n",
    "    'Lịch sử giá': data['Lịch sử giá'],\n",
    "    'Khoảng giá': data['Khoảng giá']\n",
    "})"
   ]
  },
  {
   "cell_type": "code",
   "execution_count": 22,
   "metadata": {},
   "outputs": [
    {
     "data": {
      "text/plain": [
       "np.False_"
      ]
     },
     "execution_count": 22,
     "metadata": {},
     "output_type": "execute_result"
    }
   ],
   "source": [
    "cleaned_data['Xã/Phường'].str.contains(r'Xã/Phường/Thị Trấn', na=False).any()\n"
   ]
  },
  {
   "cell_type": "code",
   "execution_count": 23,
   "metadata": {},
   "outputs": [
    {
     "data": {
      "text/plain": [
       "np.False_"
      ]
     },
     "execution_count": 23,
     "metadata": {},
     "output_type": "execute_result"
    }
   ],
   "source": [
    "cleaned_data['Quận/Huyện'].str.contains(r'Quận|Huyện', na=False).any()"
   ]
  },
  {
   "cell_type": "markdown",
   "metadata": {},
   "source": [
    "### Mã hóa dữ liệu giá"
   ]
  },
  {
   "cell_type": "code",
   "execution_count": 24,
   "metadata": {},
   "outputs": [],
   "source": [
    "month_price_path = '../../Data/priceData/month_price.csv'\n",
    "quarter_price_path = '../../Data/priceData/quarter_price.csv'\n",
    "\n",
    "history_price = pd.DataFrame(index=cleaned_data.index)\n",
    "price_data = cleaned_data[['Lịch sử giá', 'Khoảng giá']].copy()\n",
    "\n",
    "for idx, (history, price_range_str) in price_data.iterrows():\n",
    "    entries = history.split('; ')\n",
    "    price_ranges = price_range_str.split('; ')\n",
    "    \n",
    "    for i, entry in enumerate(entries):\n",
    "        try:\n",
    "            period, price = entry.split(': ')\n",
    "            price_value = float(price.replace(' tr/m²', '').replace(',', '.'))\n",
    "            \n",
    "            min_price, max_price = price_ranges[i].split()\n",
    "            min_value = float(min_price.replace(',', '.'))\n",
    "            max_value = float(max_price.replace(',', '.'))\n",
    "\n",
    "            history_price.loc[idx, period.strip()] = f\"{min_value} {price_value} {max_value}\"\n",
    "            \n",
    "        except:\n",
    "            pass\n",
    "\n",
    "month_price = history_price[history_price['Giá Q3/24'].isna() & history_price['Giá T10/24'].notna()].drop(\n",
    "    columns=['Giá Q3/22', 'Giá Q4/22', 'Giá Q1/23', 'Giá Q2/23', 'Giá Q3/23', 'Giá Q4/23', 'Giá Q1/24', 'Giá Q2/24', 'Giá Q3/24']\n",
    ")\n",
    "\n",
    "quarter_price = history_price[history_price['Giá Q3/24'].notna()].drop(\n",
    "    columns=['Giá T10/22', 'Giá T11/22', 'Giá T12/22', 'Giá T1/23', 'Giá T2/23', 'Giá T3/23', 'Giá T4/23', 'Giá T5/23', 'Giá T6/23', 'Giá T7/23', 'Giá T8/23', 'Giá T9/23', 'Giá T10/23', 'Giá T11/23', 'Giá T12/23', 'Giá T1/24', 'Giá T2/24', 'Giá T3/24', 'Giá T4/24', 'Giá T5/24', 'Giá T6/24', 'Giá T7/24', 'Giá T8/24', 'Giá T9/24', 'Giá T10/24']\n",
    ")\n",
    "\n",
    "none_price = history_price[history_price['Giá Q3/24'].isna() & history_price['Giá T10/24'].isna()]\n",
    "\n",
    "month_indices = month_price.index\n",
    "quarter_indices = quarter_price.index\n",
    "none_indices = none_price.index\n",
    "\n",
    "cleaned_data.loc[month_indices, 'Lịch sử giá'] = 'M'\n",
    "cleaned_data.loc[quarter_indices, 'Lịch sử giá'] = 'Q'\n",
    "cleaned_data.loc[none_indices, 'Lịch sử giá'] = 'N'\n",
    "\n",
    "cleaned_data.drop(columns=['Khoảng giá'], inplace=True)\n",
    "cleaned_data.rename(columns={\"Lịch sử giá\" : \"Mã lịch sử giá\"}, inplace=True)"
   ]
  },
  {
   "cell_type": "markdown",
   "metadata": {},
   "source": [
    "### Ghi vào các file đích"
   ]
  },
  {
   "cell_type": "code",
   "execution_count": 25,
   "metadata": {},
   "outputs": [],
   "source": [
    "cleaned_data.to_csv(path_data_goal, index=False)\n",
    "month_price.to_csv(month_price_path, index=True, index_label=\"index\")\n",
    "quarter_price.to_csv(quarter_price_path, index=True, index_label=\"index\")"
   ]
  },
  {
   "cell_type": "markdown",
   "metadata": {},
   "source": [
    "### Mô tả dữ liệu"
   ]
  },
  {
   "cell_type": "code",
   "execution_count": 33,
   "metadata": {},
   "outputs": [],
   "source": [
    "pd.set_option('display.max_rows', None)      # Hiển thị tất cả các hàng\n",
    "pd.set_option('display.max_columns', None)   # Hiển thị tất cả các cột\n",
    "pd.set_option('display.max_colwidth', None)  # Không giới hạn độ rộng của cột"
   ]
  },
  {
   "cell_type": "code",
   "execution_count": null,
   "metadata": {},
   "outputs": [
    {
     "name": "stdout",
     "output_type": "stream",
     "text": [
      "----- Tổng quan dữ liệu -----\n",
      "<class 'pandas.core.frame.DataFrame'>\n",
      "RangeIndex: 11240 entries, 0 to 11239\n",
      "Data columns (total 19 columns):\n",
      " #   Column          Non-Null Count  Dtype  \n",
      "---  ------          --------------  -----  \n",
      " 0   Xã/Phường       11240 non-null  object \n",
      " 1   Quận/Huyện      11240 non-null  object \n",
      " 2   Chủ đầu tư      11240 non-null  object \n",
      " 3   Tên dự án       11240 non-null  object \n",
      " 4   Loại hình       11240 non-null  object \n",
      " 5   Diện tích       11240 non-null  float32\n",
      " 6   Mức giá         11240 non-null  object \n",
      " 7   Số phòng ngủ    11240 non-null  float32\n",
      " 8   Số toilet       11240 non-null  float32\n",
      " 9   Pháp lý         11240 non-null  object \n",
      " 10  Nội thất        11240 non-null  object \n",
      " 11  Mặt tiền        11240 non-null  object \n",
      " 12  Đường vào       5248 non-null   float64\n",
      " 13  Số tầng         7586 non-null   float64\n",
      " 14  Số tòa          1951 non-null   float64\n",
      " 15  Số căn hộ       1267 non-null   float64\n",
      " 16  Hướng nhà       11240 non-null  object \n",
      " 17  Hướng ban công  11240 non-null  object \n",
      " 18  Mã lịch sử giá  11240 non-null  object \n",
      "dtypes: float32(3), float64(4), object(12)\n",
      "memory usage: 1.5+ MB\n",
      "None\n"
     ]
    }
   ],
   "source": [
    "print(cleaned_data.info())"
   ]
  },
  {
   "cell_type": "code",
   "execution_count": null,
   "metadata": {},
   "outputs": [
    {
     "name": "stdout",
     "output_type": "stream",
     "text": [
      "\n",
      "----- Mô tả dữ liệu số -----\n",
      "            Diện tích  Số phòng ngủ     Số toilet    Đường vào      Số tầng  \\\n",
      "count    11240.000000  11240.000000  11240.000000  5248.000000  7586.000000   \n",
      "mean       208.296844      4.751868      4.508452    11.540111     4.729238   \n",
      "std       9449.311523      7.292260      7.351176    12.082593     1.775088   \n",
      "min         10.000000      1.000000      1.000000     0.500000     1.000000   \n",
      "25%         46.000000      3.000000      2.000000     4.000000     4.000000   \n",
      "50%         70.000000      4.000000      3.000000     8.000000     5.000000   \n",
      "75%        105.000000      5.000000      5.000000    15.000000     5.000000   \n",
      "max    1000000.000000    255.000000    255.000000   265.000000    30.000000   \n",
      "\n",
      "            Số tòa     Số căn hộ  \n",
      "count  1951.000000   1267.000000  \n",
      "mean     15.586879   2162.244672  \n",
      "std      21.265465   2310.593738  \n",
      "min       1.000000    104.000000  \n",
      "25%       3.000000    668.000000  \n",
      "50%       5.000000   1544.000000  \n",
      "75%      17.000000   2372.000000  \n",
      "max      66.000000  12000.000000  \n"
     ]
    }
   ],
   "source": [
    "print(cleaned_data.describe(include=[float, int]))"
   ]
  },
  {
   "cell_type": "code",
   "execution_count": null,
   "metadata": {},
   "outputs": [
    {
     "name": "stdout",
     "output_type": "stream",
     "text": [
      "\n",
      "----- Mô tả dữ liệu phân loại -----\n",
      "         Xã/Phường Quận/Huyện           Chủ đầu tư         Tên dự án  \\\n",
      "count        11240      11240                11240             11240   \n",
      "unique         342         30                  228               456   \n",
      "top     Nhân Chính    Hà Đông  Không có chủ đầu tư  Không phải dự án   \n",
      "freq           289       1448                 7126              7126   \n",
      "\n",
      "        Loại hình  Mức giá  Pháp lý  Nội thất            Mặt tiền  \\\n",
      "count       11240  11240.0    11240     11240               11240   \n",
      "unique         11   5738.0        4         4                 298   \n",
      "top     Nhà riêng    200.0        4         3  Không có thông tin   \n",
      "freq         4493     87.0    10522      5969                5215   \n",
      "\n",
      "                 Hướng nhà      Hướng ban công Mã lịch sử giá  \n",
      "count                11240               11240          11240  \n",
      "unique                   9                   9              3  \n",
      "top     Không có thông tin  Không có thông tin              M  \n",
      "freq                  7246                7646           6951  \n"
     ]
    }
   ],
   "source": [
    "print(cleaned_data.describe(include=[object]))"
   ]
  }
 ],
 "metadata": {
  "kernelspec": {
   "display_name": "3B",
   "language": "python",
   "name": "python3"
  },
  "language_info": {
   "codemirror_mode": {
    "name": "ipython",
    "version": 3
   },
   "file_extension": ".py",
   "mimetype": "text/x-python",
   "name": "python",
   "nbconvert_exporter": "python",
   "pygments_lexer": "ipython3",
   "version": "3.12.7"
  }
 },
 "nbformat": 4,
 "nbformat_minor": 2
}
