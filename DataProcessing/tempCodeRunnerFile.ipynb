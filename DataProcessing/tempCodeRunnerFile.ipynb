
# path_data_original = '../Data/originalData/data_original_new.csv'
# path_data_goal = '../Data/cleanedData/cleaned_data_new.csv'