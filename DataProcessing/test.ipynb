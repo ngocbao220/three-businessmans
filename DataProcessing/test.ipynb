{
 "cells": [
  {
   "cell_type": "code",
   "execution_count": 8,
   "metadata": {},
   "outputs": [
    {
     "data": {
      "text/plain": [
       "Giá Q4/22    27.7 29.4 34.4\n",
       "Giá Q1/23    27.5 30.4 35.1\n",
       "Giá Q2/23    27.6 31.0 33.2\n",
       "Giá Q3/23    28.8 32.6 38.2\n",
       "Giá Q4/23    28.8 35.0 44.9\n",
       "Giá Q1/24    32.0 37.4 49.2\n",
       "Giá Q2/24    36.8 39.9 47.4\n",
       "Giá Q3/24    37.6 43.8 49.4\n",
       "Name: 68, dtype: object"
      ]
     },
     "execution_count": 8,
     "metadata": {},
     "output_type": "execute_result"
    }
   ],
   "source": [
    "import pandas as pd\n",
    "\n",
    "# path_data_original = 'Data/cleanedData/cleaned_data_project.csv'\n",
    "# path_data_goal = 'Data/standardizedData/standardized_data_project.csv'\n",
    "\n",
    "path_data_original = '../Data/cleanedData/cleaned_data.csv'\n",
    "path_data_goal = 'Data/standardizedData/standardized_data.csv'\n",
    "\n",
    "\n",
    "data = pd.read_csv(path_data_original).copy()\n",
    "\n",
    "# standardization Price\n",
    "\n",
    "history_price = pd.DataFrame(index=data.index)\n",
    "price_data = data[['Lịch sử giá', 'Khoảng giá']].copy()\n",
    "\n",
    "for idx, (history, price_range_str) in price_data.iterrows():\n",
    "    entries = history.split('; ')\n",
    "    price_ranges = price_range_str.split('; ')\n",
    "    \n",
    "    for i, entry in enumerate(entries):\n",
    "        try:\n",
    "            period, price = entry.split(': ')\n",
    "            price_value = float(price.replace(' tr/m²', '').replace(',', '.'))\n",
    "            \n",
    "            min_price, max_price = price_ranges[i].split()\n",
    "            min_value = float(min_price.replace(',', '.'))\n",
    "            max_value = float(max_price.replace(',', '.'))\n",
    "\n",
    "            history_price.loc[idx, period.strip()] = f\"{min_value} {price_value} {max_value}\"\n",
    "            \n",
    "        except:\n",
    "            pass\n",
    "\n",
    "month_price = history_price[history_price['Giá Q3/24'].isna() & history_price['Giá T10/24'].notna()].drop(\n",
    "    columns=['Giá Q3/22', 'Giá Q4/22', 'Giá Q1/23', 'Giá Q2/23', 'Giá Q3/23', 'Giá Q4/23', 'Giá Q1/24', 'Giá Q2/24', 'Giá Q3/24']\n",
    ")\n",
    "\n",
    "quarter_price = history_price[history_price['Giá Q3/24'].notna()].drop(\n",
    "    columns=['Giá T10/22', 'Giá T11/22', 'Giá T12/22', 'Giá T1/23', 'Giá T2/23', 'Giá T3/23', 'Giá T4/23', 'Giá T5/23', 'Giá T6/23', 'Giá T7/23', 'Giá T8/23', 'Giá T9/23', 'Giá T10/23', 'Giá T11/23', 'Giá T12/23', 'Giá T1/24', 'Giá T2/24', 'Giá T3/24', 'Giá T4/24', 'Giá T5/24', 'Giá T6/24', 'Giá T7/24', 'Giá T8/24', 'Giá T9/24', 'Giá T10/24']\n",
    ")\n",
    "\n",
    "none_price = history_price[history_price['Giá Q3/24'].isna() & history_price['Giá T10/24'].isna()]\n",
    "\n",
    "month_indices = month_price.index\n",
    "quarter_indices = quarter_price.index\n",
    "none_indices = none_price.index\n",
    "\n",
    "data.loc[month_indices, 'Lịch sử giá'] = 'M'\n",
    "data.loc[quarter_indices, 'Lịch sử giá'] = 'Q'\n",
    "data.loc[none_indices, 'Lịch sử giá'] = 'N'\n",
    "\n",
    "data.drop(columns=['Khoảng giá'], inplace=True)\n",
    "data.rename(columns={\"Lịch sử giá\" : \"Mã lịch sử giá\"}, inplace=True)\n",
    "\n",
    "# data.to_csv(path_data_goal, index=False)\n",
    "# month_price.to_csv(month_price_path)\n",
    "# quarter_price.to_csv(quarter_price_path)\n",
    "\n",
    "quarter_price.loc[68].dropna()"
   ]
  }
 ],
 "metadata": {
  "kernelspec": {
   "display_name": "base",
   "language": "python",
   "name": "python3"
  },
  "language_info": {
   "codemirror_mode": {
    "name": "ipython",
    "version": 3
   },
   "file_extension": ".py",
   "mimetype": "text/x-python",
   "name": "python",
   "nbconvert_exporter": "python",
   "pygments_lexer": "ipython3",
   "version": "3.12.3"
  }
 },
 "nbformat": 4,
 "nbformat_minor": 2
}
