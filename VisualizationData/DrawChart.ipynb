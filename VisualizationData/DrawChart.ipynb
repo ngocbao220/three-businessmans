{
 "cells": [
  {
   "cell_type": "code",
   "execution_count": 1,
   "metadata": {},
   "outputs": [],
   "source": [
    "import pandas as pd\n",
    "import csv\n",
    "import re\n",
    "import matplotlib.pyplot as plt"
   ]
  },
  {
   "cell_type": "markdown",
   "metadata": {},
   "source": [
    "Đường dẫn data"
   ]
  },
  {
   "cell_type": "code",
   "execution_count": 2,
   "metadata": {},
   "outputs": [],
   "source": [
    "data_original_Path = '../Data/originalData/data_original_new.csv'\n",
    "data_project_Path = '../Data/originalData/data_project_new.csv'\n",
    "test_path = '../Data/page_number.txt'"
   ]
  },
  {
   "cell_type": "markdown",
   "metadata": {},
   "source": [
    "Đọc file và phân loại"
   ]
  },
  {
   "cell_type": "code",
   "execution_count": 3,
   "metadata": {},
   "outputs": [],
   "source": [
    "df = pd.read_csv(data_original_Path)  \n",
    "\n",
    "df['Loại bất động sản'] = df['Phân loại'].apply(lambda x: x.split(' tại ')[0])\n"
   ]
  },
  {
   "cell_type": "markdown",
   "metadata": {},
   "source": [
    "Tính tổng giá, tổng số lượng mỗi loại bđs \n",
    "--->Tính giá trung bình mỗi loại"
   ]
  },
  {
   "cell_type": "code",
   "execution_count": 4,
   "metadata": {},
   "outputs": [],
   "source": [
    "def extract_last_price_number(history):\n",
    "    # Tách các giá trị trong lịch sử, chọn giá trị cuối cùng\n",
    "    prices = history.split(';')\n",
    "    \n",
    "    filtered_prices = [price.strip() for price in prices if price.strip()]\n",
    "\n",
    "    if filtered_prices:\n",
    "      last_price = filtered_prices[-1]\n",
    "    if last_price == 'Không có dữ liệu lịch sử giá':\n",
    "       return '0'\n",
    "    \n",
    "    return last_price.split()[-2].replace(',', '.')\n",
    "\n",
    "# Thêm cột \"Giá cuối cùng\" vào DataFrame\n",
    "df['Giá cuối cùng'] = df['Lịch sử giá'].apply(extract_last_price_number)\n",
    "# Tạo danh sách các cặp\n",
    "df['Giá cuối cùng'].to_csv(test_path, index=False, header=False)\n",
    "result = [(row['Loại bất động sản'], row['Giá cuối cùng']) \n",
    "          for _, row in df.iterrows()\n",
    "          if float(row['Giá cuối cùng']) != 0\n",
    "]\n",
    "\n",
    "total_price = {}\n",
    "count_classify = {}\n",
    "avg_price = {}\n",
    "\n",
    "# Chuyển thành định dạng chuỗi như bạn yêu cầu\n",
    "for aclassify, last_price in result:\n",
    "    if aclassify in total_price:\n",
    "        total_price[aclassify] += float(last_price)\n",
    "        count_classify[aclassify] += 1\n",
    "    else:\n",
    "        total_price[aclassify] = float(last_price)\n",
    "        count_classify[aclassify] = 1\n",
    "\n",
    "avg_price = {\n",
    "    key: (total_price[key] / count_classify[key]) if count_classify[key] > 0 else 0\n",
    "    for key in total_price.keys()\n",
    "}\n",
    "\n"
   ]
  },
  {
   "cell_type": "markdown",
   "metadata": {},
   "source": [
    "Vẽ biểu đồ cột giá trung bình từng loại hình bất động sản tại Hà Nội"
   ]
  },
  {
   "cell_type": "code",
   "execution_count": null,
   "metadata": {},
   "outputs": [],
   "source": [
    "temp = avg_price.pop(\"Loại bất động sản khác\")  # Loại bỏ và lưu giá trị\n",
    "avg_price[\"Loại bất động sản khác\"] = temp\n",
    "\n",
    "classify = list(avg_price.keys())\n",
    "price_of_classify = list(avg_price.values())\n",
    "\n",
    "# Tạo biểu đồ cột\n",
    "plt.figure(figsize = (10, 7))  \n",
    "plt.bar(classify, price_of_classify, color = 'skyblue')  \n",
    "plt.xlabel('Loại bất động sản')  \n",
    "plt.ylabel('Giá trung bình (tr/m²)')  \n",
    "plt.title('Giá trung bình của các loại bất động sản')  \n",
    "plt.xticks(rotation = 45, ha = 'right')  \n",
    "plt.tight_layout()  \n",
    "\n",
    "# Hiển thị biểu đồ\n",
    "plt.show()"
   ]
  },
  {
   "cell_type": "markdown",
   "metadata": {},
   "source": [
    "Phân loại data dự án và vẽ số lượng của từng loại dự án"
   ]
  },
  {
   "cell_type": "code",
   "execution_count": null,
   "metadata": {},
   "outputs": [],
   "source": [
    "df_project = pd.read_csv(data_project_Path)  \n",
    "\n",
    "df_project['Loại bất động sản'] = df_project['Phân loại'].apply(lambda x: x.split(' tại ')[0])\n",
    "\n",
    "number_of_classify = df_project.groupby('Loại bất động sản').size()\n",
    "number_of_classify = number_of_classify.drop(['Bán đất', 'Chung cư mini, căn hộ dịch vụ','Condotel', 'Nhà mặt phố', 'Nhà riêng', 'Không thể phân loại'])\n",
    "\n",
    "temp = number_of_classify[\"Loại bất động sản khác\"]  # Lưu giá trị của hàng này\n",
    "number_of_classify = number_of_classify.drop(\"Loại bất động sản khác\")  # Loại bỏ khỏi Series\n",
    "number_of_classify[\"Loại bất động sản khác\"] = temp  # Thêm lại vào cuối\n",
    "\n",
    "classify_project = number_of_classify.index\n",
    "count_of_classify = number_of_classify.tolist()\n",
    "\n",
    "\n",
    "# Tạo biểu đồ cột\n",
    "plt.figure(figsize = (10, 7))  \n",
    "plt.bar(classify_project, count_of_classify, color = 'skyblue')  \n",
    "plt.xlabel('Loại bất động sản')  \n",
    "plt.ylabel('Số lượng')  \n",
    "plt.title('Số lượng của từng loại dự án bất động sản ')  \n",
    "plt.xticks(rotation = 45, ha = 'right')  \n",
    "plt.tight_layout()  \n",
    "\n",
    "# Hiển thị biểu đồ\n",
    "plt.show()\n"
   ]
  },
  {
   "cell_type": "markdown",
   "metadata": {},
   "source": [
    "Làm sạch dữ liệu lịch sử giá"
   ]
  },
  {
   "cell_type": "code",
   "execution_count": 7,
   "metadata": {},
   "outputs": [],
   "source": [
    "# Lọc các bản ghi có giá trị trong cột 'Lịch sử giá'\n",
    "df_filtered = df[df['Lịch sử giá'].notnull() & (df['Lịch sử giá'] != \"Không có dữ liệu lịch sử giá\")]\n",
    "\n",
    "# Hàm để chuyển đổi lịch sử giá thành dict\n",
    "def extract_price_history_numeric(history_str):\n",
    "    price_dict = {}\n",
    "    entries = history_str.split(';')  # Tách các mục theo dấu chấm phẩy\n",
    "    for entry in entries:\n",
    "        if ':' in entry:\n",
    "            time, price = entry.split(':')  # Tách thời gian và giá\n",
    "            time = time.strip()\n",
    "            # Sử dụng regex để lấy số từ chuỗi giá\n",
    "            numeric_price = re.search(r'\\d+', price)\n",
    "            if numeric_price:  # Nếu tìm thấy số\n",
    "                price_dict[time] = int(numeric_price.group())\n",
    "    return price_dict\n",
    "\n",
    "# Tạo dictionary kết hợp 'Tên dự án' và 'Lịch sử giá'\n",
    "project_price_history = {\n",
    "    row['Tên dự án']: extract_price_history_numeric(row['Lịch sử giá'])\n",
    "    for _, row in df_filtered.iterrows()\n",
    "}\n",
    "\n",
    "# Hàm lấy lịch sử giá theo tên dự án\n",
    "def get_price_history(project_name):\n",
    "    return project_price_history.get(project_name, \"Tên dự án không tồn tại\")\n",
    "\n",
    "# Ví dụ: Nhập tên dự án và lấy lịch sử giá\n",
    "project_name_input = 'Vinhomes Metropolis - Liễu Giai'\n",
    "history_price = get_price_history(project_name_input)"
   ]
  },
  {
   "cell_type": "markdown",
   "metadata": {},
   "source": [
    "Vẽ biểu đồ lịch sử giá theo dự án"
   ]
  },
  {
   "cell_type": "code",
   "execution_count": null,
   "metadata": {},
   "outputs": [],
   "source": [
    "time_in_history = list(history_price.keys())\n",
    "price_of_time = list(history_price.values())\n",
    "\n",
    "# Tạo biểu đồ cột\n",
    "plt.figure(figsize = (10, 7))  \n",
    "plt.plot(time_in_history, price_of_time, marker='o', color='#009800', linestyle='-', linewidth=2, markersize=6)\n",
    "plt.xlabel('Loại bất động sản')  \n",
    "plt.ylabel('Giá trung bình (tr/m²)')  \n",
    "plt.title('Giá trung bình của các loại bất động sản')  \n",
    "plt.xticks(rotation = 45, ha = 'right')  \n",
    "plt.tight_layout()  \n",
    "\n",
    "# Hiển thị biểu đồ\n",
    "plt.show()"
   ]
  }
 ],
 "metadata": {
  "kernelspec": {
   "display_name": ".venv",
   "language": "python",
   "name": "python3"
  },
  "language_info": {
   "codemirror_mode": {
    "name": "ipython",
    "version": 3
   },
   "file_extension": ".py",
   "mimetype": "text/x-python",
   "name": "python",
   "nbconvert_exporter": "python",
   "pygments_lexer": "ipython3",
   "version": "3.13.0"
  }
 },
 "nbformat": 4,
 "nbformat_minor": 2
}
