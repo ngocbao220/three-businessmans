{
 "cells": [
  {
   "cell_type": "code",
   "execution_count": 19,
   "metadata": {},
   "outputs": [],
   "source": [
    "import pandas as pd\n",
    "import matplotlib.pyplot as plt"
   ]
  },
  {
   "cell_type": "code",
   "execution_count": 20,
   "metadata": {},
   "outputs": [],
   "source": [
    "data_path = '../Data/cleanedData/cleaned_data.csv'\n",
    "data = pd.read_csv(data_path)\n",
    "area_name = 'Nam Từ Liêm'"
   ]
  },
  {
   "cell_type": "code",
   "execution_count": 21,
   "metadata": {},
   "outputs": [
    {
     "data": {
      "text/plain": [
       "(37, 14)"
      ]
     },
     "execution_count": 21,
     "metadata": {},
     "output_type": "execute_result"
    }
   ],
   "source": [
    "area = data[data['Quận/Huyện'] == area_name]\n",
    "area.shape"
   ]
  },
  {
   "cell_type": "code",
   "execution_count": 22,
   "metadata": {},
   "outputs": [],
   "source": [
    "month_price_path = '../Data/priceData/month_price.csv'\n",
    "quarter_price_path = '../Data/priceData/quarter_price.csv'"
   ]
  },
  {
   "cell_type": "code",
   "execution_count": 23,
   "metadata": {},
   "outputs": [
    {
     "data": {
      "text/plain": [
       "(541, 26)"
      ]
     },
     "execution_count": 23,
     "metadata": {},
     "output_type": "execute_result"
    }
   ],
   "source": [
    "month_prices = pd.read_csv(month_price_path)\n",
    "quarter_prices = pd.read_csv(quarter_price_path)\n",
    "\n",
    "month_prices.shape"
   ]
  },
  {
   "cell_type": "code",
   "execution_count": 24,
   "metadata": {},
   "outputs": [],
   "source": [
    "columns = 'Giá T10/22,Giá T11/22,Giá T12/22,Giá T1/23,Giá T2/23,Giá T3/23,Giá T4/23,Giá T5/23,Giá T6/23,Giá T7/23,Giá T8/23,Giá T9/23,Giá T10/23,Giá T11/23,Giá T12/23,Giá T1/24,Giá T2/24,Giá T3/24,Giá T4/24,Giá T5/24,Giá T6/24,Giá T7/24,Giá T8/24,Giá T9/24,Giá T10/24'\n",
    "prices = pd.DataFrame(columns=columns.split(','))"
   ]
  },
  {
   "cell_type": "code",
   "execution_count": 25,
   "metadata": {},
   "outputs": [],
   "source": [
    "quarter_to_months = {\n",
    "    'Giá Q4/22': ['Giá T10/22', 'Giá T11/22', 'Giá T12/22'],\n",
    "    'Giá Q1/23': ['Giá T1/23', 'Giá T2/23', 'Giá T3/23'],\n",
    "    'Giá Q2/23': ['Giá T4/23', 'Giá T5/23', 'Giá T6/23'],\n",
    "    'Giá Q3/23': ['Giá T7/23', 'Giá T8/23', 'Giá T9/23'],\n",
    "    'Giá Q4/23': ['Giá T10/23', 'Giá T11/23', 'Giá T12/23'],\n",
    "    'Giá Q1/24': ['Giá T1/24', 'Giá T2/24', 'Giá T3/24'],\n",
    "    'Giá Q2/24': ['Giá T4/24', 'Giá T5/24', 'Giá T6/24'],\n",
    "    'Giá Q3/24': ['Giá T7/24', 'Giá T8/24', 'Giá T9/24', 'Giá T10/24']\n",
    "}\n"
   ]
  },
  {
   "cell_type": "code",
   "execution_count": 26,
   "metadata": {},
   "outputs": [],
   "source": [
    "def change_quarter_to_month(quarter_row):\n",
    "    result = pd.DataFrame(columns=columns.split(','))\n",
    "    for quarter, months in quarter_to_months.items():\n",
    "        if quarter in quarter_row:\n",
    "            for month in months:\n",
    "                result[month] = quarter_row[quarter]\n",
    "    \n",
    "    return result\n"
   ]
  },
  {
   "cell_type": "code",
   "execution_count": 27,
   "metadata": {},
   "outputs": [],
   "source": [
    "for index, row in area.iterrows():\n",
    "    if row['Mã lịch sử giá'] == 'M':\n",
    "        matching_row = month_prices[month_prices['index'] == index].drop(columns=['index'])\n",
    "        if not matching_row.empty:\n",
    "            prices = pd.concat([prices, matching_row], ignore_index=True)\n",
    "    if row['Mã lịch sử giá'] == 'Q':\n",
    "        matching_row = quarter_prices[quarter_prices['index'] == index].drop(columns=['index'])\n",
    "        if not matching_row.empty:\n",
    "            prices = pd.concat([prices, change_quarter_to_month(matching_row)], ignore_index=True)"
   ]
  },
  {
   "cell_type": "code",
   "execution_count": 28,
   "metadata": {},
   "outputs": [
    {
     "data": {
      "text/html": [
       "<div>\n",
       "<style scoped>\n",
       "    .dataframe tbody tr th:only-of-type {\n",
       "        vertical-align: middle;\n",
       "    }\n",
       "\n",
       "    .dataframe tbody tr th {\n",
       "        vertical-align: top;\n",
       "    }\n",
       "\n",
       "    .dataframe thead th {\n",
       "        text-align: right;\n",
       "    }\n",
       "</style>\n",
       "<table border=\"1\" class=\"dataframe\">\n",
       "  <thead>\n",
       "    <tr style=\"text-align: right;\">\n",
       "      <th></th>\n",
       "      <th>Giá T10/22</th>\n",
       "      <th>Giá T11/22</th>\n",
       "      <th>Giá T12/22</th>\n",
       "      <th>Giá T1/23</th>\n",
       "      <th>Giá T2/23</th>\n",
       "      <th>Giá T3/23</th>\n",
       "      <th>Giá T4/23</th>\n",
       "      <th>Giá T5/23</th>\n",
       "      <th>Giá T6/23</th>\n",
       "      <th>Giá T7/23</th>\n",
       "      <th>...</th>\n",
       "      <th>Giá T1/24</th>\n",
       "      <th>Giá T2/24</th>\n",
       "      <th>Giá T3/24</th>\n",
       "      <th>Giá T4/24</th>\n",
       "      <th>Giá T5/24</th>\n",
       "      <th>Giá T6/24</th>\n",
       "      <th>Giá T7/24</th>\n",
       "      <th>Giá T8/24</th>\n",
       "      <th>Giá T9/24</th>\n",
       "      <th>Giá T10/24</th>\n",
       "    </tr>\n",
       "  </thead>\n",
       "  <tbody>\n",
       "    <tr>\n",
       "      <th>0</th>\n",
       "      <td>60.0 100.0 191.5</td>\n",
       "      <td>60.0 100.0 191.5</td>\n",
       "      <td>60.0 100.0 191.5</td>\n",
       "      <td>92.3 135.7 194.4</td>\n",
       "      <td>92.3 135.7 194.4</td>\n",
       "      <td>92.3 135.7 194.4</td>\n",
       "      <td>85.7 139.2 202.8</td>\n",
       "      <td>85.7 139.2 202.8</td>\n",
       "      <td>85.7 139.2 202.8</td>\n",
       "      <td>96.0 134.4 188.9</td>\n",
       "      <td>...</td>\n",
       "      <td>85.0 155.3 207.7</td>\n",
       "      <td>85.0 155.3 207.7</td>\n",
       "      <td>85.0 155.3 207.7</td>\n",
       "      <td>89.4 152.3 206.2</td>\n",
       "      <td>89.4 152.3 206.2</td>\n",
       "      <td>89.4 152.3 206.2</td>\n",
       "      <td>54.3 160.0 263.1</td>\n",
       "      <td>54.3 160.0 263.1</td>\n",
       "      <td>54.3 160.0 263.1</td>\n",
       "      <td>54.3 160.0 263.1</td>\n",
       "    </tr>\n",
       "    <tr>\n",
       "      <th>1</th>\n",
       "      <td>97.0 133.0 200.0</td>\n",
       "      <td>85.0 134.0 227.0</td>\n",
       "      <td>74.0 128.0 210.0</td>\n",
       "      <td>71.0 117.0 196.0</td>\n",
       "      <td>86.0 135.0 224.0</td>\n",
       "      <td>88.0 134.0 212.0</td>\n",
       "      <td>98.0 147.0 216.0</td>\n",
       "      <td>90.0 147.0 232.0</td>\n",
       "      <td>85.0 134.0 214.0</td>\n",
       "      <td>81.0 129.0 224.0</td>\n",
       "      <td>...</td>\n",
       "      <td>98.0 129.0 184.0</td>\n",
       "      <td>90.0 131.0 200.0</td>\n",
       "      <td>112.0 158.0 218.0</td>\n",
       "      <td>125.0 180.0 251.0</td>\n",
       "      <td>125.0 171.0 250.0</td>\n",
       "      <td>120.0 175.0 258.0</td>\n",
       "      <td>131.0 175.0 250.0</td>\n",
       "      <td>134.0 179.0 250.0</td>\n",
       "      <td>142.0 194.0 265.0</td>\n",
       "      <td>148.0 207.0 284.0</td>\n",
       "    </tr>\n",
       "    <tr>\n",
       "      <th>2</th>\n",
       "      <td>67.0 88.0 117.0</td>\n",
       "      <td>64.0 89.0 113.0</td>\n",
       "      <td>72.0 90.0 115.0</td>\n",
       "      <td>69.0 86.0 105.0</td>\n",
       "      <td>73.0 90.0 113.0</td>\n",
       "      <td>79.0 90.0 111.0</td>\n",
       "      <td>62.0 84.0 104.0</td>\n",
       "      <td>78.0 90.0 115.0</td>\n",
       "      <td>73.0 88.0 109.0</td>\n",
       "      <td>74.0 88.0 119.0</td>\n",
       "      <td>...</td>\n",
       "      <td>80.0 94.0 119.0</td>\n",
       "      <td>76.0 96.0 133.0</td>\n",
       "      <td>85.0 104.0 129.0</td>\n",
       "      <td>88.0 108.0 143.0</td>\n",
       "      <td>96.0 117.0 151.0</td>\n",
       "      <td>97.0 118.0 151.0</td>\n",
       "      <td>95.0 118.0 153.0</td>\n",
       "      <td>103.0 124.0 162.0</td>\n",
       "      <td>99.0 128.0 180.0</td>\n",
       "      <td>106.0 136.0 192.0</td>\n",
       "    </tr>\n",
       "    <tr>\n",
       "      <th>3</th>\n",
       "      <td>88.0 119.0 233.0</td>\n",
       "      <td>78.0 118.0 209.0</td>\n",
       "      <td>76.0 112.0 191.0</td>\n",
       "      <td>79.0 110.0 180.0</td>\n",
       "      <td>84.0 118.0 200.0</td>\n",
       "      <td>84.0 125.0 249.0</td>\n",
       "      <td>80.0 121.0 257.0</td>\n",
       "      <td>82.0 116.0 198.0</td>\n",
       "      <td>74.0 113.0 190.0</td>\n",
       "      <td>93.0 130.0 204.0</td>\n",
       "      <td>...</td>\n",
       "      <td>100.0 137.0 202.0</td>\n",
       "      <td>100.0 133.0 220.0</td>\n",
       "      <td>112.0 152.0 264.0</td>\n",
       "      <td>124.0 169.0 257.0</td>\n",
       "      <td>129.0 175.0 281.0</td>\n",
       "      <td>132.0 176.0 264.0</td>\n",
       "      <td>139.0 171.0 225.0</td>\n",
       "      <td>145.0 174.0 226.0</td>\n",
       "      <td>145.0 185.0 259.0</td>\n",
       "      <td>150.0 185.0 247.0</td>\n",
       "    </tr>\n",
       "    <tr>\n",
       "      <th>4</th>\n",
       "      <td>79.7 117.2 166.7</td>\n",
       "      <td>79.7 117.2 166.7</td>\n",
       "      <td>79.7 117.2 166.7</td>\n",
       "      <td>90.3 103.0 105.1</td>\n",
       "      <td>90.3 103.0 105.1</td>\n",
       "      <td>90.3 103.0 105.1</td>\n",
       "      <td>94.2 108.0 121.1</td>\n",
       "      <td>94.2 108.0 121.1</td>\n",
       "      <td>94.2 108.0 121.1</td>\n",
       "      <td>88.9 105.4 112.7</td>\n",
       "      <td>...</td>\n",
       "      <td>107.6 123.7 128.4</td>\n",
       "      <td>107.6 123.7 128.4</td>\n",
       "      <td>107.6 123.7 128.4</td>\n",
       "      <td>123.7 133.3 143.0</td>\n",
       "      <td>123.7 133.3 143.0</td>\n",
       "      <td>123.7 133.3 143.0</td>\n",
       "      <td>121.2 133.3 154.0</td>\n",
       "      <td>121.2 133.3 154.0</td>\n",
       "      <td>121.2 133.3 154.0</td>\n",
       "      <td>121.2 133.3 154.0</td>\n",
       "    </tr>\n",
       "  </tbody>\n",
       "</table>\n",
       "<p>5 rows × 25 columns</p>\n",
       "</div>"
      ],
      "text/plain": [
       "         Giá T10/22        Giá T11/22        Giá T12/22         Giá T1/23  \\\n",
       "0  60.0 100.0 191.5  60.0 100.0 191.5  60.0 100.0 191.5  92.3 135.7 194.4   \n",
       "1  97.0 133.0 200.0  85.0 134.0 227.0  74.0 128.0 210.0  71.0 117.0 196.0   \n",
       "2   67.0 88.0 117.0   64.0 89.0 113.0   72.0 90.0 115.0   69.0 86.0 105.0   \n",
       "3  88.0 119.0 233.0  78.0 118.0 209.0  76.0 112.0 191.0  79.0 110.0 180.0   \n",
       "4  79.7 117.2 166.7  79.7 117.2 166.7  79.7 117.2 166.7  90.3 103.0 105.1   \n",
       "\n",
       "          Giá T2/23         Giá T3/23         Giá T4/23         Giá T5/23  \\\n",
       "0  92.3 135.7 194.4  92.3 135.7 194.4  85.7 139.2 202.8  85.7 139.2 202.8   \n",
       "1  86.0 135.0 224.0  88.0 134.0 212.0  98.0 147.0 216.0  90.0 147.0 232.0   \n",
       "2   73.0 90.0 113.0   79.0 90.0 111.0   62.0 84.0 104.0   78.0 90.0 115.0   \n",
       "3  84.0 118.0 200.0  84.0 125.0 249.0  80.0 121.0 257.0  82.0 116.0 198.0   \n",
       "4  90.3 103.0 105.1  90.3 103.0 105.1  94.2 108.0 121.1  94.2 108.0 121.1   \n",
       "\n",
       "          Giá T6/23         Giá T7/23  ...          Giá T1/24  \\\n",
       "0  85.7 139.2 202.8  96.0 134.4 188.9  ...   85.0 155.3 207.7   \n",
       "1  85.0 134.0 214.0  81.0 129.0 224.0  ...   98.0 129.0 184.0   \n",
       "2   73.0 88.0 109.0   74.0 88.0 119.0  ...    80.0 94.0 119.0   \n",
       "3  74.0 113.0 190.0  93.0 130.0 204.0  ...  100.0 137.0 202.0   \n",
       "4  94.2 108.0 121.1  88.9 105.4 112.7  ...  107.6 123.7 128.4   \n",
       "\n",
       "           Giá T2/24          Giá T3/24          Giá T4/24          Giá T5/24  \\\n",
       "0   85.0 155.3 207.7   85.0 155.3 207.7   89.4 152.3 206.2   89.4 152.3 206.2   \n",
       "1   90.0 131.0 200.0  112.0 158.0 218.0  125.0 180.0 251.0  125.0 171.0 250.0   \n",
       "2    76.0 96.0 133.0   85.0 104.0 129.0   88.0 108.0 143.0   96.0 117.0 151.0   \n",
       "3  100.0 133.0 220.0  112.0 152.0 264.0  124.0 169.0 257.0  129.0 175.0 281.0   \n",
       "4  107.6 123.7 128.4  107.6 123.7 128.4  123.7 133.3 143.0  123.7 133.3 143.0   \n",
       "\n",
       "           Giá T6/24          Giá T7/24          Giá T8/24          Giá T9/24  \\\n",
       "0   89.4 152.3 206.2   54.3 160.0 263.1   54.3 160.0 263.1   54.3 160.0 263.1   \n",
       "1  120.0 175.0 258.0  131.0 175.0 250.0  134.0 179.0 250.0  142.0 194.0 265.0   \n",
       "2   97.0 118.0 151.0   95.0 118.0 153.0  103.0 124.0 162.0   99.0 128.0 180.0   \n",
       "3  132.0 176.0 264.0  139.0 171.0 225.0  145.0 174.0 226.0  145.0 185.0 259.0   \n",
       "4  123.7 133.3 143.0  121.2 133.3 154.0  121.2 133.3 154.0  121.2 133.3 154.0   \n",
       "\n",
       "          Giá T10/24  \n",
       "0   54.3 160.0 263.1  \n",
       "1  148.0 207.0 284.0  \n",
       "2  106.0 136.0 192.0  \n",
       "3  150.0 185.0 247.0  \n",
       "4  121.2 133.3 154.0  \n",
       "\n",
       "[5 rows x 25 columns]"
      ]
     },
     "execution_count": 28,
     "metadata": {},
     "output_type": "execute_result"
    }
   ],
   "source": [
    "prices.head()"
   ]
  },
  {
   "cell_type": "code",
   "execution_count": 29,
   "metadata": {},
   "outputs": [
    {
     "name": "stdout",
     "output_type": "stream",
     "text": [
      "         Giá T10/22        Giá T11/22        Giá T12/22         Giá T1/23  \\\n",
      "0  60.0 100.0 191.5  60.0 100.0 191.5  60.0 100.0 191.5  92.3 135.7 194.4   \n",
      "1  97.0 133.0 200.0  85.0 134.0 227.0  74.0 128.0 210.0  71.0 117.0 196.0   \n",
      "2   67.0 88.0 117.0   64.0 89.0 113.0   72.0 90.0 115.0   69.0 86.0 105.0   \n",
      "3  88.0 119.0 233.0  78.0 118.0 209.0  76.0 112.0 191.0  79.0 110.0 180.0   \n",
      "4  79.7 117.2 166.7  79.7 117.2 166.7  79.7 117.2 166.7  90.3 103.0 105.1   \n",
      "\n",
      "          Giá T2/23         Giá T3/23         Giá T4/23         Giá T5/23  \\\n",
      "0  92.3 135.7 194.4  92.3 135.7 194.4  85.7 139.2 202.8  85.7 139.2 202.8   \n",
      "1  86.0 135.0 224.0  88.0 134.0 212.0  98.0 147.0 216.0  90.0 147.0 232.0   \n",
      "2   73.0 90.0 113.0   79.0 90.0 111.0   62.0 84.0 104.0   78.0 90.0 115.0   \n",
      "3  84.0 118.0 200.0  84.0 125.0 249.0  80.0 121.0 257.0  82.0 116.0 198.0   \n",
      "4  90.3 103.0 105.1  90.3 103.0 105.1  94.2 108.0 121.1  94.2 108.0 121.1   \n",
      "\n",
      "          Giá T6/23         Giá T7/23  ...          Giá T1/24  \\\n",
      "0  85.7 139.2 202.8  96.0 134.4 188.9  ...   85.0 155.3 207.7   \n",
      "1  85.0 134.0 214.0  81.0 129.0 224.0  ...   98.0 129.0 184.0   \n",
      "2   73.0 88.0 109.0   74.0 88.0 119.0  ...    80.0 94.0 119.0   \n",
      "3  74.0 113.0 190.0  93.0 130.0 204.0  ...  100.0 137.0 202.0   \n",
      "4  94.2 108.0 121.1  88.9 105.4 112.7  ...  107.6 123.7 128.4   \n",
      "\n",
      "           Giá T2/24          Giá T3/24          Giá T4/24          Giá T5/24  \\\n",
      "0   85.0 155.3 207.7   85.0 155.3 207.7   89.4 152.3 206.2   89.4 152.3 206.2   \n",
      "1   90.0 131.0 200.0  112.0 158.0 218.0  125.0 180.0 251.0  125.0 171.0 250.0   \n",
      "2    76.0 96.0 133.0   85.0 104.0 129.0   88.0 108.0 143.0   96.0 117.0 151.0   \n",
      "3  100.0 133.0 220.0  112.0 152.0 264.0  124.0 169.0 257.0  129.0 175.0 281.0   \n",
      "4  107.6 123.7 128.4  107.6 123.7 128.4  123.7 133.3 143.0  123.7 133.3 143.0   \n",
      "\n",
      "           Giá T6/24          Giá T7/24          Giá T8/24          Giá T9/24  \\\n",
      "0   89.4 152.3 206.2   54.3 160.0 263.1   54.3 160.0 263.1   54.3 160.0 263.1   \n",
      "1  120.0 175.0 258.0  131.0 175.0 250.0  134.0 179.0 250.0  142.0 194.0 265.0   \n",
      "2   97.0 118.0 151.0   95.0 118.0 153.0  103.0 124.0 162.0   99.0 128.0 180.0   \n",
      "3  132.0 176.0 264.0  139.0 171.0 225.0  145.0 174.0 226.0  145.0 185.0 259.0   \n",
      "4  123.7 133.3 143.0  121.2 133.3 154.0  121.2 133.3 154.0  121.2 133.3 154.0   \n",
      "\n",
      "          Giá T10/24  \n",
      "0   54.3 160.0 263.1  \n",
      "1  148.0 207.0 284.0  \n",
      "2  106.0 136.0 192.0  \n",
      "3  150.0 185.0 247.0  \n",
      "4  121.2 133.3 154.0  \n",
      "\n",
      "[5 rows x 25 columns]\n",
      "Giá T10/22    object\n",
      "Giá T11/22    object\n",
      "Giá T12/22    object\n",
      "Giá T1/23     object\n",
      "Giá T2/23     object\n",
      "Giá T3/23     object\n",
      "Giá T4/23     object\n",
      "Giá T5/23     object\n",
      "Giá T6/23     object\n",
      "Giá T7/23     object\n",
      "Giá T8/23     object\n",
      "Giá T9/23     object\n",
      "Giá T10/23    object\n",
      "Giá T11/23    object\n",
      "Giá T12/23    object\n",
      "Giá T1/24     object\n",
      "Giá T2/24     object\n",
      "Giá T3/24     object\n",
      "Giá T4/24     object\n",
      "Giá T5/24     object\n",
      "Giá T6/24     object\n",
      "Giá T7/24     object\n",
      "Giá T8/24     object\n",
      "Giá T9/24     object\n",
      "Giá T10/24    object\n",
      "dtype: object\n"
     ]
    }
   ],
   "source": [
    "print(prices.head())\n",
    "print(prices.dtypes)\n"
   ]
  },
  {
   "cell_type": "code",
   "execution_count": 30,
   "metadata": {},
   "outputs": [],
   "source": [
    "import numpy as np\n",
    "import pandas as pd\n",
    "\n",
    "# less mean max\n",
    "less = []\n",
    "mean = []\n",
    "max = []\n",
    "mean_price = pd.DataFrame(columns=prices.columns)\n",
    "\n",
    "for col in prices.columns:\n",
    "    less.clear()\n",
    "    mean.clear()\n",
    "    max.clear()\n",
    "    for row in prices[col]:\n",
    "        if isinstance(row, str):\n",
    "            row_values = row.split()\n",
    "            less.append(float(row_values[0]))\n",
    "            mean.append(float(row_values[1]))\n",
    "            max.append(float(row_values[2]))\n",
    "\n",
    "    mean_price[col] = [np.mean(less), np.mean(mean), np.mean(max)]\n"
   ]
  },
  {
   "cell_type": "code",
   "execution_count": 35,
   "metadata": {},
   "outputs": [
    {
     "data": {
      "text/plain": [
       "Giá T10/22     97.0 133.0 200.0\n",
       "Giá T11/22     85.0 134.0 227.0\n",
       "Giá T12/22     74.0 128.0 210.0\n",
       "Giá T1/23      71.0 117.0 196.0\n",
       "Giá T2/23      86.0 135.0 224.0\n",
       "Giá T3/23      88.0 134.0 212.0\n",
       "Giá T4/23      98.0 147.0 216.0\n",
       "Giá T5/23      90.0 147.0 232.0\n",
       "Giá T6/23      85.0 134.0 214.0\n",
       "Giá T7/23      81.0 129.0 224.0\n",
       "Giá T8/23      83.0 121.0 199.0\n",
       "Giá T9/23      87.0 124.0 201.0\n",
       "Giá T10/23     80.0 118.0 189.0\n",
       "Giá T11/23     83.0 125.0 231.0\n",
       "Giá T12/23     94.0 131.0 218.0\n",
       "Giá T1/24      98.0 129.0 184.0\n",
       "Giá T2/24      90.0 131.0 200.0\n",
       "Giá T3/24     112.0 158.0 218.0\n",
       "Giá T4/24     125.0 180.0 251.0\n",
       "Giá T5/24     125.0 171.0 250.0\n",
       "Giá T6/24     120.0 175.0 258.0\n",
       "Giá T7/24     131.0 175.0 250.0\n",
       "Giá T8/24     134.0 179.0 250.0\n",
       "Giá T9/24     142.0 194.0 265.0\n",
       "Giá T10/24    148.0 207.0 284.0\n",
       "Name: 1, dtype: object"
      ]
     },
     "execution_count": 35,
     "metadata": {},
     "output_type": "execute_result"
    }
   ],
   "source": [
    "prices.loc[1,:]"
   ]
  },
  {
   "cell_type": "code",
   "execution_count": 38,
   "metadata": {},
   "outputs": [
    {
     "ename": "AttributeError",
     "evalue": "'Predictor' object has no attribute 'show'",
     "output_type": "error",
     "traceback": [
      "\u001b[1;31m---------------------------------------------------------------------------\u001b[0m",
      "\u001b[1;31mAttributeError\u001b[0m                            Traceback (most recent call last)",
      "Cell \u001b[1;32mIn[38], line 5\u001b[0m\n\u001b[0;32m      1\u001b[0m \u001b[38;5;28;01mfrom\u001b[39;00m \u001b[38;5;21;01mmodel\u001b[39;00m \u001b[38;5;28;01mimport\u001b[39;00m Predictor\n\u001b[0;32m      3\u001b[0m predictor \u001b[38;5;241m=\u001b[39m Predictor(mean_price\u001b[38;5;241m.\u001b[39mcolumns, mean_price\u001b[38;5;241m.\u001b[39mloc[\u001b[38;5;241m1\u001b[39m,:])\n\u001b[1;32m----> 5\u001b[0m \u001b[43mpredictor\u001b[49m\u001b[38;5;241;43m.\u001b[39;49m\u001b[43mshow\u001b[49m()\n",
      "\u001b[1;31mAttributeError\u001b[0m: 'Predictor' object has no attribute 'show'"
     ]
    }
   ],
   "source": [
    "from model import Predictor\n",
    "\n",
    "predictor = Predictor(mean_price.columns, mean_price.loc[1,:])\n",
    "\n",
    "predictor.show()"
   ]
  }
 ],
 "metadata": {
  "kernelspec": {
   "display_name": "3B",
   "language": "python",
   "name": "python3"
  },
  "language_info": {
   "codemirror_mode": {
    "name": "ipython",
    "version": 3
   },
   "file_extension": ".py",
   "mimetype": "text/x-python",
   "name": "python",
   "nbconvert_exporter": "python",
   "pygments_lexer": "ipython3",
   "version": "3.12.7"
  }
 },
 "nbformat": 4,
 "nbformat_minor": 2
}
