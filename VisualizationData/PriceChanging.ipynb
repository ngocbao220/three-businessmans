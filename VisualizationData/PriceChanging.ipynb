{
 "cells": [
  {
   "cell_type": "code",
   "execution_count": 9,
   "metadata": {},
   "outputs": [],
   "source": [
    "import pandas as pd\n",
    "import matplotlib.pyplot as plt"
   ]
  },
  {
   "cell_type": "code",
   "execution_count": 10,
   "metadata": {},
   "outputs": [],
   "source": [
    "data_path = '../Data/cleanedData/cleaned_data_new.csv'\n",
    "data = pd.read_csv(data_path)\n",
    "area_name = 'Tây Hồ'"
   ]
  },
  {
   "cell_type": "code",
   "execution_count": 11,
   "metadata": {},
   "outputs": [
    {
     "data": {
      "text/plain": [
       "(0, 14)"
      ]
     },
     "execution_count": 11,
     "metadata": {},
     "output_type": "execute_result"
    }
   ],
   "source": [
    "area = data[data['Quận/Huyện'] == area_name]\n",
    "area.shape"
   ]
  },
  {
   "cell_type": "code",
   "execution_count": 12,
   "metadata": {},
   "outputs": [],
   "source": [
    "month_price_path = '../Data/priceData/month_price.csv'\n",
    "quarter_price_path = '../Data/priceData/quarter_price.csv'"
   ]
  },
  {
   "cell_type": "code",
   "execution_count": 13,
   "metadata": {},
   "outputs": [
    {
     "data": {
      "text/plain": [
       "(33, 26)"
      ]
     },
     "execution_count": 13,
     "metadata": {},
     "output_type": "execute_result"
    }
   ],
   "source": [
    "month_prices = pd.read_csv(month_price_path)\n",
    "quarter_prices = pd.read_csv(quarter_price_path)\n",
    "\n",
    "month_prices.shape"
   ]
  },
  {
   "cell_type": "code",
   "execution_count": 14,
   "metadata": {},
   "outputs": [],
   "source": [
    "columns = 'Giá T10/22,Giá T11/22,Giá T12/22,Giá T1/23,Giá T2/23,Giá T3/23,Giá T4/23,Giá T5/23,Giá T6/23,Giá T7/23,Giá T8/23,Giá T9/23,Giá T10/23,Giá T11/23,Giá T12/23,Giá T1/24,Giá T2/24,Giá T3/24,Giá T4/24,Giá T5/24,Giá T6/24,Giá T7/24,Giá T8/24,Giá T9/24,Giá T10/24'\n",
    "prices = pd.DataFrame(columns=columns.split(','))\n",
    "quarter_to_months = {\n",
    "    'Giá Q4/22': ['Giá T10/22', 'Giá T11/22', 'Giá T12/22'],\n",
    "    'Giá Q1/23': ['Giá T1/23', 'Giá T2/23', 'Giá T3/23'],\n",
    "    'Giá Q2/23': ['Giá T4/23', 'Giá T5/23', 'Giá T6/23'],\n",
    "    'Giá Q3/23': ['Giá T7/23', 'Giá T8/23', 'Giá T9/23'],\n",
    "    'Giá Q4/23': ['Giá T10/23', 'Giá T11/23', 'Giá T12/23'],\n",
    "    'Giá Q1/24': ['Giá T1/24', 'Giá T2/24', 'Giá T3/24'],\n",
    "    'Giá Q2/24': ['Giá T4/24', 'Giá T5/24', 'Giá T6/24'],\n",
    "    'Giá Q3/24': ['Giá T7/24', 'Giá T8/24', 'Giá T9/24', 'Giá T10/24']\n",
    "}"
   ]
  },
  {
   "cell_type": "code",
   "execution_count": 15,
   "metadata": {},
   "outputs": [],
   "source": [
    "def change_quarter_to_month(quarter_row):\n",
    "    result = pd.DataFrame(columns=columns.split(','))\n",
    "    for quarter, months in quarter_to_months.items():\n",
    "        if quarter in quarter_row:\n",
    "            for month in months:\n",
    "                result[month] = quarter_row[quarter]\n",
    "    \n",
    "    return result\n"
   ]
  },
  {
   "cell_type": "code",
   "execution_count": 16,
   "metadata": {},
   "outputs": [],
   "source": [
    "for index, row in area.iterrows():\n",
    "    if row['Mã lịch sử giá'] == 'M':\n",
    "        matching_row = month_prices[month_prices['index'] == index].drop(columns=['index'])\n",
    "        if not matching_row.empty:\n",
    "            prices = pd.concat([prices, matching_row], ignore_index=True)\n",
    "    if row['Mã lịch sử giá'] == 'Q':\n",
    "        matching_row = quarter_prices[quarter_prices['index'] == index].drop(columns=['index'])\n",
    "        if not matching_row.empty:\n",
    "            prices = pd.concat([prices, change_quarter_to_month(matching_row)], ignore_index=True)"
   ]
  },
  {
   "cell_type": "code",
   "execution_count": 17,
   "metadata": {},
   "outputs": [
    {
     "name": "stderr",
     "output_type": "stream",
     "text": [
      "d:\\AI - năm hai\\Kì I\\LT xử lý dữ liệu\\BTL\\three-businessmans\\.venv\\Lib\\site-packages\\numpy\\_core\\fromnumeric.py:3904: RuntimeWarning: Mean of empty slice.\n",
      "  return _methods._mean(a, axis=axis, dtype=dtype,\n",
      "d:\\AI - năm hai\\Kì I\\LT xử lý dữ liệu\\BTL\\three-businessmans\\.venv\\Lib\\site-packages\\numpy\\_core\\_methods.py:147: RuntimeWarning: invalid value encountered in scalar divide\n",
      "  ret = ret.dtype.type(ret / rcount)\n"
     ]
    }
   ],
   "source": [
    "import numpy as np\n",
    "import pandas as pd\n",
    "\n",
    "# less mean max\n",
    "less = []\n",
    "mean = []\n",
    "max = []\n",
    "mean_price = pd.DataFrame(columns=prices.columns)\n",
    "\n",
    "for col in prices.columns:\n",
    "    less.clear()\n",
    "    mean.clear()\n",
    "    max.clear()\n",
    "    for row in prices[col]:\n",
    "        if isinstance(row, str):\n",
    "            row_values = row.split()\n",
    "            less.append(float(row_values[0]))\n",
    "            mean.append(float(row_values[1]))\n",
    "            max.append(float(row_values[2]))\n",
    "\n",
    "    mean_price[col] = [np.mean(less), np.mean(mean), np.mean(max)]\n"
   ]
  },
  {
   "cell_type": "code",
   "execution_count": null,
   "metadata": {},
   "outputs": [],
   "source": [
    "import sys\n",
    "sys.path.append('./Prediction') \n",
    "\n",
    "import model\n"
   ]
  },
  {
   "cell_type": "code",
   "execution_count": 18,
   "metadata": {},
   "outputs": [
    {
     "ename": "ModuleNotFoundError",
     "evalue": "No module named 'model'",
     "output_type": "error",
     "traceback": [
      "\u001b[1;31m---------------------------------------------------------------------------\u001b[0m",
      "\u001b[1;31mModuleNotFoundError\u001b[0m                       Traceback (most recent call last)",
      "Cell \u001b[1;32mIn[18], line 2\u001b[0m\n\u001b[0;32m      1\u001b[0m \u001b[38;5;28;01mimport\u001b[39;00m \u001b[38;5;21;01mimportlib\u001b[39;00m\n\u001b[1;32m----> 2\u001b[0m \u001b[38;5;28;01mimport\u001b[39;00m \u001b[38;5;21;01mmodel\u001b[39;00m  \u001b[38;5;66;03m# Tên module bạn cần reload\u001b[39;00m\n\u001b[0;32m      3\u001b[0m importlib\u001b[38;5;241m.\u001b[39mreload(model)\n\u001b[0;32m      5\u001b[0m \u001b[38;5;28;01mfrom\u001b[39;00m \u001b[38;5;21;01mmodel\u001b[39;00m \u001b[38;5;28;01mimport\u001b[39;00m Predictor\n",
      "\u001b[1;31mModuleNotFoundError\u001b[0m: No module named 'model'"
     ]
    }
   ],
   "source": [
    "import importlib\n",
    "import model  # Tên module bạn cần reload\n",
    "importlib.reload(model)\n",
    "\n",
    "from model import Predictor\n",
    "\n",
    "predictor = Predictor(area_name, mean_price.columns.str.replace('Giá', \"\"), mean_price.loc[1,:])\n",
    "\n",
    "predictor.show()"
   ]
  },
  {
   "cell_type": "code",
   "execution_count": null,
   "metadata": {},
   "outputs": [],
   "source": []
  }
 ],
 "metadata": {
  "kernelspec": {
   "display_name": ".venv",
   "language": "python",
   "name": "python3"
  },
  "language_info": {
   "codemirror_mode": {
    "name": "ipython",
    "version": 3
   },
   "file_extension": ".py",
   "mimetype": "text/x-python",
   "name": "python",
   "nbconvert_exporter": "python",
   "pygments_lexer": "ipython3",
   "version": "3.13.0"
  }
 },
 "nbformat": 4,
 "nbformat_minor": 2
}
