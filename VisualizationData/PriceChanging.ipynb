{
 "cells": [
  {
   "cell_type": "code",
   "execution_count": 30,
   "metadata": {},
   "outputs": [],
   "source": [
    "import pandas as pd\n",
    "import matplotlib.pyplot as plt"
   ]
  },
  {
   "cell_type": "code",
   "execution_count": 31,
   "metadata": {},
   "outputs": [],
   "source": [
    "data_path = '../Data/cleanedData/cleaned_data.csv'\n",
    "data = pd.read_csv(data_path)\n",
    "area_name = 'Nam Từ Liêm'"
   ]
  },
  {
   "cell_type": "code",
   "execution_count": 32,
   "metadata": {},
   "outputs": [
    {
     "data": {
      "text/plain": [
       "(37, 14)"
      ]
     },
     "execution_count": 32,
     "metadata": {},
     "output_type": "execute_result"
    }
   ],
   "source": [
    "area = data[data['Quận/Huyện'] == area_name]\n",
    "area.shape"
   ]
  },
  {
   "cell_type": "code",
   "execution_count": 34,
   "metadata": {},
   "outputs": [],
   "source": [
    "month_price_path = '../Data/priceData/month_price.csv'\n",
    "quarter_price_path = '../Data/priceData/quarter_price.csv'"
   ]
  },
  {
   "cell_type": "code",
   "execution_count": 40,
   "metadata": {},
   "outputs": [
    {
     "data": {
      "text/plain": [
       "(541, 26)"
      ]
     },
     "execution_count": 40,
     "metadata": {},
     "output_type": "execute_result"
    }
   ],
   "source": [
    "month_prices = pd.read_csv(month_price_path)\n",
    "quarter_prices = pd.read_csv(quarter_price_path)\n",
    "\n",
    "month_prices.shape"
   ]
  },
  {
   "cell_type": "code",
   "execution_count": 35,
   "metadata": {},
   "outputs": [],
   "source": [
    "columns = 'Giá T10/22,Giá T11/22,Giá T12/22,Giá T1/23,Giá T2/23,Giá T3/23,Giá T4/23,Giá T5/23,Giá T6/23,Giá T7/23,Giá T8/23,Giá T9/23,Giá T10/23,Giá T11/23,Giá T12/23,Giá T1/24,Giá T2/24,Giá T3/24,Giá T4/24,Giá T5/24,Giá T6/24,Giá T7/24,Giá T8/24,Giá T9/24,Giá T10/24'\n",
    "prices = pd.DataFrame(columns=columns.split(','))"
   ]
  },
  {
   "cell_type": "code",
   "execution_count": 36,
   "metadata": {},
   "outputs": [],
   "source": [
    "quarter_to_months = {\n",
    "    'Giá Q4/22': ['Giá T10/22', 'Giá T11/22', 'Giá T12/22'],\n",
    "    'Giá Q1/23': ['Giá T1/23', 'Giá T2/23', 'Giá T3/23'],\n",
    "    'Giá Q2/23': ['Giá T4/23', 'Giá T5/23', 'Giá T6/23'],\n",
    "    'Giá Q3/23': ['Giá T7/23', 'Giá T8/23', 'Giá T9/23'],\n",
    "    'Giá Q4/23': ['Giá T10/23', 'Giá T11/23', 'Giá T12/23'],\n",
    "    'Giá Q1/24': ['Giá T1/24', 'Giá T2/24', 'Giá T3/24'],\n",
    "    'Giá Q2/24': ['Giá T4/24', 'Giá T5/24', 'Giá T6/24'],\n",
    "    'Giá Q3/24': ['Giá T7/24', 'Giá T8/24', 'Giá T9/24']\n",
    "}\n"
   ]
  },
  {
   "cell_type": "code",
   "execution_count": 41,
   "metadata": {},
   "outputs": [],
   "source": [
    "for index, row in area.iterrows():\n",
    "    if row['Mã lịch sử giá'] == 'M':  # Nếu là giá tháng\n",
    "        matching_row = month_prices[month_prices['index'] == index].drop(columns=['index'])\n",
    "        if not matching_row.empty:\n",
    "            prices = pd.concat([prices, matching_row], ignore_index=True)"
   ]
  },
  {
   "cell_type": "code",
   "execution_count": 42,
   "metadata": {},
   "outputs": [
    {
     "data": {
      "text/plain": [
       "(52, 25)"
      ]
     },
     "execution_count": 42,
     "metadata": {},
     "output_type": "execute_result"
    }
   ],
   "source": [
    "prices.dropna().shape"
   ]
  }
 ],
 "metadata": {
  "kernelspec": {
   "display_name": "3B",
   "language": "python",
   "name": "python3"
  },
  "language_info": {
   "codemirror_mode": {
    "name": "ipython",
    "version": 3
   },
   "file_extension": ".py",
   "mimetype": "text/x-python",
   "name": "python",
   "nbconvert_exporter": "python",
   "pygments_lexer": "ipython3",
   "version": "3.12.7"
  }
 },
 "nbformat": 4,
 "nbformat_minor": 2
}
